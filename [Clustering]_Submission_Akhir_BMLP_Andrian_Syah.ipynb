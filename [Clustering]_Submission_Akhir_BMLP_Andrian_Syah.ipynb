{
  "nbformat": 4,
  "nbformat_minor": 0,
  "metadata": {
    "colab": {
      "provenance": [],
      "include_colab_link": true
    },
    "kernelspec": {
      "name": "python3",
      "display_name": "Python 3"
    },
    "language_info": {
      "name": "python"
    }
  },
  "cells": [
    {
      "cell_type": "markdown",
      "metadata": {
        "id": "view-in-github",
        "colab_type": "text"
      },
      "source": [
        "<a href=\"https://colab.research.google.com/github/Andriansyah2501/BMLP/blob/main/%5BClustering%5D_Submission_Akhir_BMLP_Andrian_Syah.ipynb\" target=\"_parent\"><img src=\"https://colab.research.google.com/assets/colab-badge.svg\" alt=\"Open In Colab\"/></a>"
      ]
    },
    {
      "cell_type": "markdown",
      "source": [
        "# **Penting**\n",
        "- Jangan mengubah atau menambahkan cell text yang sudah disediakan, Anda hanya perlu mengerjakan cell code yang sudah disediakan.\n",
        "- Pastikan seluruh kriteria memiliki output yang sesuai, karena jika tidak ada output dianggap tidak selesai.\n",
        "- Misal, Anda menggunakan df = df.dropna() silakan gunakan df.isnull().sum() sebagai tanda sudah berhasil. Silakan sesuaikan seluruh output dengan perintah yang sudah disediakan.\n",
        "- Pastikan Anda melakukan Run All sebelum mengirimkan submission untuk memastikan seluruh cell berjalan dengan baik.\n",
        "- Pastikan Anda menggunakan variabel df dari awal sampai akhir dan tidak diperbolehkan mengganti nama variabel tersebut.\n",
        "- Hapus simbol pagar (#) pada kode yang bertipe komentar jika Anda menerapkan kriteria tambahan\n",
        "- Biarkan simbol pagar (#) jika Anda tidak menerapkan kriteria tambahan\n",
        "- Pastikan Anda mengerjakan sesuai section yang sudah diberikan tanpa mengubah judul atau header yang disediakan."
      ],
      "metadata": {
        "id": "0tvAKGat01Sd"
      }
    },
    {
      "cell_type": "markdown",
      "source": [
        "# **INFORMASI DATASET**\n",
        "\n",
        "Dataset ini menyajikan gambaran mendalam mengenai perilaku transaksi dan pola aktivitas keuangan, sehingga sangat ideal untuk eksplorasi **deteksi penipuan (fraud detection)** dan **identifikasi anomali**. Dataset ini mencakup **2.512 sampel data transaksi**, yang mencakup berbagai atribut transaksi, demografi nasabah, dan pola penggunaan.\n",
        "\n",
        "Setiap entri memberikan wawasan komprehensif terhadap perilaku transaksi, memungkinkan analisis untuk **keamanan finansial** dan pengembangan model prediktif.\n",
        "\n",
        "## Fitur Utama\n",
        "\n",
        "- **`TransactionID`**: Pengidentifikasi unik alfanumerik untuk setiap transaksi.  \n",
        "- **`AccountID`**: ID unik untuk setiap akun, dapat memiliki banyak transaksi.  \n",
        "- **`TransactionAmount`**: Nilai transaksi dalam mata uang, mulai dari pengeluaran kecil hingga pembelian besar.  \n",
        "- **`TransactionDate`**: Tanggal dan waktu transaksi terjadi.  \n",
        "- **`TransactionType`**: Tipe transaksi berupa `'Credit'` atau `'Debit'`.  \n",
        "- **`Location`**: Lokasi geografis transaksi (nama kota di Amerika Serikat).  \n",
        "- **`DeviceID`**: ID perangkat yang digunakan dalam transaksi.  \n",
        "- **`IP Address`**: Alamat IPv4 yang digunakan saat transaksi, dapat berubah untuk beberapa akun.  \n",
        "- **`MerchantID`**: ID unik merchant, menunjukkan merchant utama dan anomali transaksi.  \n",
        "- **`AccountBalance`**: Saldo akun setelah transaksi berlangsung.  \n",
        "- **`PreviousTransactionDate`**: Tanggal transaksi terakhir pada akun, berguna untuk menghitung frekuensi transaksi.  \n",
        "- **`Channel`**: Kanal transaksi seperti `Online`, `ATM`, atau `Branch`.  \n",
        "- **`CustomerAge`**: Usia pemilik akun.  \n",
        "- **`CustomerOccupation`**: Profesi pengguna seperti `Dokter`, `Insinyur`, `Mahasiswa`, atau `Pensiunan`.  \n",
        "- **`TransactionDuration`**: Lama waktu transaksi (dalam detik).  \n",
        "- **`LoginAttempts`**: Jumlah upaya login sebelum transaksi—jumlah tinggi bisa mengindikasikan anomali.\n",
        "\n",
        "Tugas kamu adalah membuat model clustering yang selanjutnya akan digunakan untuk membuat model klasifikasi.\n"
      ],
      "metadata": {
        "id": "sKi5D9qVVJvY"
      }
    },
    {
      "cell_type": "markdown",
      "source": [
        "# **1. Import Library**\n",
        "Pada tahap ini, Anda perlu mengimpor beberapa pustaka (library) Python yang dibutuhkan untuk analisis data dan pembangunan model machine learning. Semua library yang dibutuhkan harus **import** di **cell** ini, jika ada library yang dijalankan di cell lain maka **submission langsung ditolak**"
      ],
      "metadata": {
        "id": "fKADPWcFKlj3"
      }
    },
    {
      "cell_type": "code",
      "source": [
        "import pandas as pd\n",
        "import numpy as np\n",
        "import matplotlib.pyplot as plt\n",
        "import seaborn as sns\n",
        "from sklearn.preprocessing import LabelEncoder, StandardScaler\n",
        "from sklearn.cluster import KMeans\n",
        "from sklearn.metrics import silhouette_score\n",
        "%matplotlib inline\n",
        "sns.set(style=\"whitegrid\")"
      ],
      "metadata": {
        "id": "BlmvjLY9M4Yj"
      },
      "execution_count": null,
      "outputs": []
    },
    {
      "cell_type": "markdown",
      "source": [
        "# **2. Memuat Dataset**\n",
        "Pada tahap ini, Anda perlu memuat dataset ke dalam notebook lalu mengecek informasi dataset sebelum nantinya dilakukan pembersihan. Hal-hal yang perlu dilakukan pada tahapan ini yaitu:\n",
        "1. **Memahami Struktur Data**\n",
        "   - Dataset harus mengambil referensi wajib digunakan (bisa dilihat [Disini](https://drive.google.com/drive/folders/1Zs7VmPZ-jNwsRlMKH65Ea-LApSwx6lKx?usp=drive_link))\n",
        "   - Melakukan loading dataset ke dalam notebook dan menampilkan 5 baris pertama dengan function `head`.\n",
        "   - Tinjau jumlah baris kolom dan jenis data dalam dataset dengan function `info`.  \n",
        "   - Menampilkan statistik deskriptif dataset dengan menjalankan `describe`.\n",
        "   - Pastikan **setiap function tersebut** memiliki **output pada setiap cell** code. Jika tidak **submission langsung ditolak**\n",
        "   "
      ],
      "metadata": {
        "id": "f3YIEnAFKrKL"
      }
    },
    {
      "cell_type": "markdown",
      "source": [
        "Gunakan code ini untuk melakukan load data secara otomatis tanpa harus download data tersebut secara manual:\n",
        "```python\n",
        "url='https://docs.google.com/spreadsheets/d/e/2PACX-1vTbg5WVW6W3c8SPNUGc3A3AL-AG32TPEQGpdzARfNICMsLFI0LQj0jporhsLCeVhkN5AoRsTkn08AYl/pub?gid=2020477971&single=true&output=csv'\n",
        "df = pd.read_csv(url)\n",
        "```"
      ],
      "metadata": {
        "id": "JgKXTwx2LMQA"
      }
    },
    {
      "cell_type": "markdown",
      "source": [
        "Penting: pada kriteria pertama hindari penggunaan print() dan display() karena seluruh fungsi yang digunakan sudah memiliki standar output dan menghasilkan output yang diharapkan.\n",
        "\n",
        "Kriteria 1 akan ditolak ketika:\n",
        "- print(__.head())\n",
        "- display(___.head())\n",
        "dst\n",
        "\n",
        "Kriteria 1 akan diterima ketika Anda menggunakan fungsi yang diminta tanpa menambahkan deskripsi apapun."
      ],
      "metadata": {
        "id": "9d2RyUOuefWa"
      }
    },
    {
      "cell_type": "code",
      "source": [
        "# Load data\n",
        "# Memuat dataset sekali saja\n",
        "url='https://docs.google.com/spreadsheets/d/e/2PACX-1vTbg5WVW6W3c8SPNUGc3A3AL-AG32TPEQGpdzARfNICMsLFI0LQj0jporhsLCeVhkN5AoRsTkn08AYl/pub?gid=2020477971&single=true&output=csv'\n",
        "df = pd.read_csv(url)"
      ],
      "metadata": {
        "id": "-tfuxA86YztE"
      },
      "execution_count": 25,
      "outputs": []
    },
    {
      "cell_type": "code",
      "source": [
        "df.info()"
      ],
      "metadata": {
        "id": "SE2y8u7b9KAe",
        "outputId": "a3d30efd-b90b-4cde-d842-9f3b62c0b7f8",
        "colab": {
          "base_uri": "https://localhost:8080/"
        }
      },
      "execution_count": null,
      "outputs": [
        {
          "output_type": "stream",
          "name": "stdout",
          "text": [
            "<class 'pandas.core.frame.DataFrame'>\n",
            "RangeIndex: 2537 entries, 0 to 2536\n",
            "Data columns (total 16 columns):\n",
            " #   Column                   Non-Null Count  Dtype  \n",
            "---  ------                   --------------  -----  \n",
            " 0   TransactionID            2508 non-null   object \n",
            " 1   AccountID                2516 non-null   object \n",
            " 2   TransactionAmount        2511 non-null   float64\n",
            " 3   PreviousTransactionDate  2509 non-null   object \n",
            " 4   TransactionType          2507 non-null   object \n",
            " 5   Location                 2507 non-null   object \n",
            " 6   DeviceID                 2507 non-null   object \n",
            " 7   IP Address               2517 non-null   object \n",
            " 8   MerchantID               2514 non-null   object \n",
            " 9   Channel                  2510 non-null   object \n",
            " 10  CustomerAge              2519 non-null   float64\n",
            " 11  CustomerOccupation       2514 non-null   object \n",
            " 12  TransactionDuration      2511 non-null   float64\n",
            " 13  LoginAttempts            2516 non-null   float64\n",
            " 14  AccountBalance           2510 non-null   float64\n",
            " 15  TransactionDate          2513 non-null   object \n",
            "dtypes: float64(5), object(11)\n",
            "memory usage: 317.3+ KB\n"
          ]
        }
      ]
    },
    {
      "cell_type": "code",
      "source": [
        "# Menampilkan statistik deskriptif dataset dengan menjalankan describe\n",
        "df.describe()"
      ],
      "metadata": {
        "id": "hN9KsJPonVKT",
        "outputId": "418548dc-6809-4d65-e86a-c24e0924709f",
        "colab": {
          "base_uri": "https://localhost:8080/",
          "height": 300
        }
      },
      "execution_count": 26,
      "outputs": [
        {
          "output_type": "execute_result",
          "data": {
            "text/plain": [
              "       TransactionAmount  CustomerAge  TransactionDuration  LoginAttempts  \\\n",
              "count        2511.000000  2519.000000          2511.000000    2516.000000   \n",
              "mean          297.656468    44.678444           119.422939       1.121622   \n",
              "std           292.230367    17.837359            70.078513       0.594469   \n",
              "min             0.260000    18.000000            10.000000       1.000000   \n",
              "25%            81.310000    27.000000            63.000000       1.000000   \n",
              "50%           211.360000    45.000000           112.000000       1.000000   \n",
              "75%           413.105000    59.000000           161.000000       1.000000   \n",
              "max          1919.110000    80.000000           300.000000       5.000000   \n",
              "\n",
              "       AccountBalance  \n",
              "count     2510.000000  \n",
              "mean      5113.438124  \n",
              "std       3897.975861  \n",
              "min        101.250000  \n",
              "25%       1504.727500  \n",
              "50%       4734.110000  \n",
              "75%       7672.687500  \n",
              "max      14977.990000  "
            ],
            "text/html": [
              "\n",
              "  <div id=\"df-21960488-0ee9-42c1-b3bf-9a6f9cc8cc9f\" class=\"colab-df-container\">\n",
              "    <div>\n",
              "<style scoped>\n",
              "    .dataframe tbody tr th:only-of-type {\n",
              "        vertical-align: middle;\n",
              "    }\n",
              "\n",
              "    .dataframe tbody tr th {\n",
              "        vertical-align: top;\n",
              "    }\n",
              "\n",
              "    .dataframe thead th {\n",
              "        text-align: right;\n",
              "    }\n",
              "</style>\n",
              "<table border=\"1\" class=\"dataframe\">\n",
              "  <thead>\n",
              "    <tr style=\"text-align: right;\">\n",
              "      <th></th>\n",
              "      <th>TransactionAmount</th>\n",
              "      <th>CustomerAge</th>\n",
              "      <th>TransactionDuration</th>\n",
              "      <th>LoginAttempts</th>\n",
              "      <th>AccountBalance</th>\n",
              "    </tr>\n",
              "  </thead>\n",
              "  <tbody>\n",
              "    <tr>\n",
              "      <th>count</th>\n",
              "      <td>2511.000000</td>\n",
              "      <td>2519.000000</td>\n",
              "      <td>2511.000000</td>\n",
              "      <td>2516.000000</td>\n",
              "      <td>2510.000000</td>\n",
              "    </tr>\n",
              "    <tr>\n",
              "      <th>mean</th>\n",
              "      <td>297.656468</td>\n",
              "      <td>44.678444</td>\n",
              "      <td>119.422939</td>\n",
              "      <td>1.121622</td>\n",
              "      <td>5113.438124</td>\n",
              "    </tr>\n",
              "    <tr>\n",
              "      <th>std</th>\n",
              "      <td>292.230367</td>\n",
              "      <td>17.837359</td>\n",
              "      <td>70.078513</td>\n",
              "      <td>0.594469</td>\n",
              "      <td>3897.975861</td>\n",
              "    </tr>\n",
              "    <tr>\n",
              "      <th>min</th>\n",
              "      <td>0.260000</td>\n",
              "      <td>18.000000</td>\n",
              "      <td>10.000000</td>\n",
              "      <td>1.000000</td>\n",
              "      <td>101.250000</td>\n",
              "    </tr>\n",
              "    <tr>\n",
              "      <th>25%</th>\n",
              "      <td>81.310000</td>\n",
              "      <td>27.000000</td>\n",
              "      <td>63.000000</td>\n",
              "      <td>1.000000</td>\n",
              "      <td>1504.727500</td>\n",
              "    </tr>\n",
              "    <tr>\n",
              "      <th>50%</th>\n",
              "      <td>211.360000</td>\n",
              "      <td>45.000000</td>\n",
              "      <td>112.000000</td>\n",
              "      <td>1.000000</td>\n",
              "      <td>4734.110000</td>\n",
              "    </tr>\n",
              "    <tr>\n",
              "      <th>75%</th>\n",
              "      <td>413.105000</td>\n",
              "      <td>59.000000</td>\n",
              "      <td>161.000000</td>\n",
              "      <td>1.000000</td>\n",
              "      <td>7672.687500</td>\n",
              "    </tr>\n",
              "    <tr>\n",
              "      <th>max</th>\n",
              "      <td>1919.110000</td>\n",
              "      <td>80.000000</td>\n",
              "      <td>300.000000</td>\n",
              "      <td>5.000000</td>\n",
              "      <td>14977.990000</td>\n",
              "    </tr>\n",
              "  </tbody>\n",
              "</table>\n",
              "</div>\n",
              "    <div class=\"colab-df-buttons\">\n",
              "\n",
              "  <div class=\"colab-df-container\">\n",
              "    <button class=\"colab-df-convert\" onclick=\"convertToInteractive('df-21960488-0ee9-42c1-b3bf-9a6f9cc8cc9f')\"\n",
              "            title=\"Convert this dataframe to an interactive table.\"\n",
              "            style=\"display:none;\">\n",
              "\n",
              "  <svg xmlns=\"http://www.w3.org/2000/svg\" height=\"24px\" viewBox=\"0 -960 960 960\">\n",
              "    <path d=\"M120-120v-720h720v720H120Zm60-500h600v-160H180v160Zm220 220h160v-160H400v160Zm0 220h160v-160H400v160ZM180-400h160v-160H180v160Zm440 0h160v-160H620v160ZM180-180h160v-160H180v160Zm440 0h160v-160H620v160Z\"/>\n",
              "  </svg>\n",
              "    </button>\n",
              "\n",
              "  <style>\n",
              "    .colab-df-container {\n",
              "      display:flex;\n",
              "      gap: 12px;\n",
              "    }\n",
              "\n",
              "    .colab-df-convert {\n",
              "      background-color: #E8F0FE;\n",
              "      border: none;\n",
              "      border-radius: 50%;\n",
              "      cursor: pointer;\n",
              "      display: none;\n",
              "      fill: #1967D2;\n",
              "      height: 32px;\n",
              "      padding: 0 0 0 0;\n",
              "      width: 32px;\n",
              "    }\n",
              "\n",
              "    .colab-df-convert:hover {\n",
              "      background-color: #E2EBFA;\n",
              "      box-shadow: 0px 1px 2px rgba(60, 64, 67, 0.3), 0px 1px 3px 1px rgba(60, 64, 67, 0.15);\n",
              "      fill: #174EA6;\n",
              "    }\n",
              "\n",
              "    .colab-df-buttons div {\n",
              "      margin-bottom: 4px;\n",
              "    }\n",
              "\n",
              "    [theme=dark] .colab-df-convert {\n",
              "      background-color: #3B4455;\n",
              "      fill: #D2E3FC;\n",
              "    }\n",
              "\n",
              "    [theme=dark] .colab-df-convert:hover {\n",
              "      background-color: #434B5C;\n",
              "      box-shadow: 0px 1px 3px 1px rgba(0, 0, 0, 0.15);\n",
              "      filter: drop-shadow(0px 1px 2px rgba(0, 0, 0, 0.3));\n",
              "      fill: #FFFFFF;\n",
              "    }\n",
              "  </style>\n",
              "\n",
              "    <script>\n",
              "      const buttonEl =\n",
              "        document.querySelector('#df-21960488-0ee9-42c1-b3bf-9a6f9cc8cc9f button.colab-df-convert');\n",
              "      buttonEl.style.display =\n",
              "        google.colab.kernel.accessAllowed ? 'block' : 'none';\n",
              "\n",
              "      async function convertToInteractive(key) {\n",
              "        const element = document.querySelector('#df-21960488-0ee9-42c1-b3bf-9a6f9cc8cc9f');\n",
              "        const dataTable =\n",
              "          await google.colab.kernel.invokeFunction('convertToInteractive',\n",
              "                                                    [key], {});\n",
              "        if (!dataTable) return;\n",
              "\n",
              "        const docLinkHtml = 'Like what you see? Visit the ' +\n",
              "          '<a target=\"_blank\" href=https://colab.research.google.com/notebooks/data_table.ipynb>data table notebook</a>'\n",
              "          + ' to learn more about interactive tables.';\n",
              "        element.innerHTML = '';\n",
              "        dataTable['output_type'] = 'display_data';\n",
              "        await google.colab.output.renderOutput(dataTable, element);\n",
              "        const docLink = document.createElement('div');\n",
              "        docLink.innerHTML = docLinkHtml;\n",
              "        element.appendChild(docLink);\n",
              "      }\n",
              "    </script>\n",
              "  </div>\n",
              "\n",
              "\n",
              "    <div id=\"df-ca766087-4dba-4b5a-98e8-4fec67c80c8f\">\n",
              "      <button class=\"colab-df-quickchart\" onclick=\"quickchart('df-ca766087-4dba-4b5a-98e8-4fec67c80c8f')\"\n",
              "                title=\"Suggest charts\"\n",
              "                style=\"display:none;\">\n",
              "\n",
              "<svg xmlns=\"http://www.w3.org/2000/svg\" height=\"24px\"viewBox=\"0 0 24 24\"\n",
              "     width=\"24px\">\n",
              "    <g>\n",
              "        <path d=\"M19 3H5c-1.1 0-2 .9-2 2v14c0 1.1.9 2 2 2h14c1.1 0 2-.9 2-2V5c0-1.1-.9-2-2-2zM9 17H7v-7h2v7zm4 0h-2V7h2v10zm4 0h-2v-4h2v4z\"/>\n",
              "    </g>\n",
              "</svg>\n",
              "      </button>\n",
              "\n",
              "<style>\n",
              "  .colab-df-quickchart {\n",
              "      --bg-color: #E8F0FE;\n",
              "      --fill-color: #1967D2;\n",
              "      --hover-bg-color: #E2EBFA;\n",
              "      --hover-fill-color: #174EA6;\n",
              "      --disabled-fill-color: #AAA;\n",
              "      --disabled-bg-color: #DDD;\n",
              "  }\n",
              "\n",
              "  [theme=dark] .colab-df-quickchart {\n",
              "      --bg-color: #3B4455;\n",
              "      --fill-color: #D2E3FC;\n",
              "      --hover-bg-color: #434B5C;\n",
              "      --hover-fill-color: #FFFFFF;\n",
              "      --disabled-bg-color: #3B4455;\n",
              "      --disabled-fill-color: #666;\n",
              "  }\n",
              "\n",
              "  .colab-df-quickchart {\n",
              "    background-color: var(--bg-color);\n",
              "    border: none;\n",
              "    border-radius: 50%;\n",
              "    cursor: pointer;\n",
              "    display: none;\n",
              "    fill: var(--fill-color);\n",
              "    height: 32px;\n",
              "    padding: 0;\n",
              "    width: 32px;\n",
              "  }\n",
              "\n",
              "  .colab-df-quickchart:hover {\n",
              "    background-color: var(--hover-bg-color);\n",
              "    box-shadow: 0 1px 2px rgba(60, 64, 67, 0.3), 0 1px 3px 1px rgba(60, 64, 67, 0.15);\n",
              "    fill: var(--button-hover-fill-color);\n",
              "  }\n",
              "\n",
              "  .colab-df-quickchart-complete:disabled,\n",
              "  .colab-df-quickchart-complete:disabled:hover {\n",
              "    background-color: var(--disabled-bg-color);\n",
              "    fill: var(--disabled-fill-color);\n",
              "    box-shadow: none;\n",
              "  }\n",
              "\n",
              "  .colab-df-spinner {\n",
              "    border: 2px solid var(--fill-color);\n",
              "    border-color: transparent;\n",
              "    border-bottom-color: var(--fill-color);\n",
              "    animation:\n",
              "      spin 1s steps(1) infinite;\n",
              "  }\n",
              "\n",
              "  @keyframes spin {\n",
              "    0% {\n",
              "      border-color: transparent;\n",
              "      border-bottom-color: var(--fill-color);\n",
              "      border-left-color: var(--fill-color);\n",
              "    }\n",
              "    20% {\n",
              "      border-color: transparent;\n",
              "      border-left-color: var(--fill-color);\n",
              "      border-top-color: var(--fill-color);\n",
              "    }\n",
              "    30% {\n",
              "      border-color: transparent;\n",
              "      border-left-color: var(--fill-color);\n",
              "      border-top-color: var(--fill-color);\n",
              "      border-right-color: var(--fill-color);\n",
              "    }\n",
              "    40% {\n",
              "      border-color: transparent;\n",
              "      border-right-color: var(--fill-color);\n",
              "      border-top-color: var(--fill-color);\n",
              "    }\n",
              "    60% {\n",
              "      border-color: transparent;\n",
              "      border-right-color: var(--fill-color);\n",
              "    }\n",
              "    80% {\n",
              "      border-color: transparent;\n",
              "      border-right-color: var(--fill-color);\n",
              "      border-bottom-color: var(--fill-color);\n",
              "    }\n",
              "    90% {\n",
              "      border-color: transparent;\n",
              "      border-bottom-color: var(--fill-color);\n",
              "    }\n",
              "  }\n",
              "</style>\n",
              "\n",
              "      <script>\n",
              "        async function quickchart(key) {\n",
              "          const quickchartButtonEl =\n",
              "            document.querySelector('#' + key + ' button');\n",
              "          quickchartButtonEl.disabled = true;  // To prevent multiple clicks.\n",
              "          quickchartButtonEl.classList.add('colab-df-spinner');\n",
              "          try {\n",
              "            const charts = await google.colab.kernel.invokeFunction(\n",
              "                'suggestCharts', [key], {});\n",
              "          } catch (error) {\n",
              "            console.error('Error during call to suggestCharts:', error);\n",
              "          }\n",
              "          quickchartButtonEl.classList.remove('colab-df-spinner');\n",
              "          quickchartButtonEl.classList.add('colab-df-quickchart-complete');\n",
              "        }\n",
              "        (() => {\n",
              "          let quickchartButtonEl =\n",
              "            document.querySelector('#df-ca766087-4dba-4b5a-98e8-4fec67c80c8f button');\n",
              "          quickchartButtonEl.style.display =\n",
              "            google.colab.kernel.accessAllowed ? 'block' : 'none';\n",
              "        })();\n",
              "      </script>\n",
              "    </div>\n",
              "\n",
              "    </div>\n",
              "  </div>\n"
            ],
            "application/vnd.google.colaboratory.intrinsic+json": {
              "type": "dataframe",
              "summary": "{\n  \"name\": \"df\",\n  \"rows\": 8,\n  \"fields\": [\n    {\n      \"column\": \"TransactionAmount\",\n      \"properties\": {\n        \"dtype\": \"number\",\n        \"std\": 947.5993920594391,\n        \"min\": 0.26,\n        \"max\": 2511.0,\n        \"num_unique_values\": 8,\n        \"samples\": [\n          297.6564675428116,\n          211.36,\n          2511.0\n        ],\n        \"semantic_type\": \"\",\n        \"description\": \"\"\n      }\n    },\n    {\n      \"column\": \"CustomerAge\",\n      \"properties\": {\n        \"dtype\": \"number\",\n        \"std\": 876.1326913421283,\n        \"min\": 17.83735916133878,\n        \"max\": 2519.0,\n        \"num_unique_values\": 8,\n        \"samples\": [\n          44.67844382691544,\n          45.0,\n          2519.0\n        ],\n        \"semantic_type\": \"\",\n        \"description\": \"\"\n      }\n    },\n    {\n      \"column\": \"TransactionDuration\",\n      \"properties\": {\n        \"dtype\": \"number\",\n        \"std\": 849.953262620521,\n        \"min\": 10.0,\n        \"max\": 2511.0,\n        \"num_unique_values\": 8,\n        \"samples\": [\n          119.42293906810036,\n          112.0,\n          2511.0\n        ],\n        \"semantic_type\": \"\",\n        \"description\": \"\"\n      }\n    },\n    {\n      \"column\": \"LoginAttempts\",\n      \"properties\": {\n        \"dtype\": \"number\",\n        \"std\": 889.0002278827087,\n        \"min\": 0.5944688003470012,\n        \"max\": 2516.0,\n        \"num_unique_values\": 5,\n        \"samples\": [\n          1.1216216216216217,\n          5.0,\n          0.5944688003470012\n        ],\n        \"semantic_type\": \"\",\n        \"description\": \"\"\n      }\n    },\n    {\n      \"column\": \"AccountBalance\",\n      \"properties\": {\n        \"dtype\": \"number\",\n        \"std\": 4635.0151227093575,\n        \"min\": 101.25,\n        \"max\": 14977.99,\n        \"num_unique_values\": 8,\n        \"samples\": [\n          5113.438123505975,\n          4734.110000000001,\n          2510.0\n        ],\n        \"semantic_type\": \"\",\n        \"description\": \"\"\n      }\n    }\n  ]\n}"
            }
          },
          "metadata": {},
          "execution_count": 26
        }
      ]
    },
    {
      "cell_type": "markdown",
      "source": [
        "(Opsional) Memuat Dataset dan Melakukan Exploratory Data Analysis (EDA) [Skilled]\n",
        "\n",
        "**Biarkan kosong jika tidak menerapkan kriteria skilled**\n",
        "\n",
        "**Apabila ingin menerapkan Advanced, pastikan seluruh visualisasi tidak ada yang overlap**"
      ],
      "metadata": {
        "id": "DNOEZk24uiXu"
      }
    },
    {
      "cell_type": "code",
      "source": [
        "# Menampilkan korelasi antar fitur (Opsional Skilled 1)"
      ],
      "metadata": {
        "id": "DGAJlKExnYAt"
      },
      "execution_count": null,
      "outputs": []
    },
    {
      "cell_type": "code",
      "source": [
        "# Menampilkan histogram untuk semua kolom numerik (Opsional Skilled 1)"
      ],
      "metadata": {
        "id": "kcBn9v4Fn8FO"
      },
      "execution_count": null,
      "outputs": []
    },
    {
      "cell_type": "markdown",
      "source": [
        "(Opsional) Memuat Dataset dan Melakukan Exploratory Data Analysis (EDA) [Advanced]\n",
        "\n",
        "**Biarkan kosong jika tidak menerapkan kriteria advanced**"
      ],
      "metadata": {
        "id": "k-S35baFuwaP"
      }
    },
    {
      "cell_type": "code",
      "source": [
        "# Visualisasi yang lebih informatif (Opsional Advanced 1)"
      ],
      "metadata": {
        "id": "GVIuT8VDokKn"
      },
      "execution_count": null,
      "outputs": []
    },
    {
      "cell_type": "markdown",
      "source": [
        "# **3. Pembersihan dan Pra Pemrosesan Data**\n",
        "\n",
        "Pada tahap ini, Anda akan melakukan **Pembersihan Dataset** untuk menjadikan dataset mudah diintepretasi dan bisa dilatih. Hal-hal yang wajib kamu lakukan yaitu:\n",
        "\n",
        "1. **Mengecek dataset** menggunakan isnull().sum() dan duplicated().sum().\n",
        "2. Melakukan feature scaling menggunakan `MinMaxScaler()` atau `StandardScalar()` untuk fitur numerik.\n",
        "3. Melakukan feature encoding menggunakan `LabelEncoder()` untuk fitur kategorikal.\n",
        "4. Melakukan drop pada kolom id.\n",
        "5. **Ketentuan Cell Code**\n",
        "   - Pastikan **setiap pemeriksaan tersebut** memiliki **output pada cell-nya**. Jika tidak **submission langsung ditolak**\n"
      ],
      "metadata": {
        "id": "cSemyzQHU0On"
      }
    },
    {
      "cell_type": "code",
      "source": [
        "# Mengecek dataset menggunakan isnull().sum()\n",
        "isnull_sum = df.isnull().sum()\n",
        "print(isnull_sum)"
      ],
      "metadata": {
        "id": "dKeejtvxM6X1",
        "colab": {
          "base_uri": "https://localhost:8080/"
        },
        "outputId": "00f9da51-b2f5-4a6d-af20-1317b0715695"
      },
      "execution_count": 27,
      "outputs": [
        {
          "output_type": "stream",
          "name": "stdout",
          "text": [
            "TransactionID              29\n",
            "AccountID                  21\n",
            "TransactionAmount          26\n",
            "PreviousTransactionDate    28\n",
            "TransactionType            30\n",
            "Location                   30\n",
            "DeviceID                   30\n",
            "IP Address                 20\n",
            "MerchantID                 23\n",
            "Channel                    27\n",
            "CustomerAge                18\n",
            "CustomerOccupation         23\n",
            "TransactionDuration        26\n",
            "LoginAttempts              21\n",
            "AccountBalance             27\n",
            "TransactionDate            24\n",
            "dtype: int64\n"
          ]
        }
      ]
    },
    {
      "cell_type": "code",
      "source": [
        "# Mengecek dataset menggunakan duplicated().sum()\n",
        "duplicated_sum = df.duplicated().sum()\n",
        "print(duplicated_sum)"
      ],
      "metadata": {
        "id": "2RrBA92mpHBc",
        "colab": {
          "base_uri": "https://localhost:8080/"
        },
        "outputId": "80771f61-49a0-4925-bdc4-975ad73fd80a"
      },
      "execution_count": 28,
      "outputs": [
        {
          "output_type": "stream",
          "name": "stdout",
          "text": [
            "21\n"
          ]
        }
      ]
    },
    {
      "cell_type": "code",
      "source": [
        "# Melakukan feature scaling menggunakan MinMaxScaler() atau StandardScalar() untuk fitur numerik.\n",
        "# Pastikan kamu menggunakan function head setelah melalukan scaling.\n",
        "\n",
        "from sklearn.preprocessing import MinMaxScaler\n",
        "\n",
        "# Pilih fitur numerik\n",
        "numerical_cols = df.select_dtypes(include=['int64', 'float64']).columns.tolist()\n",
        "\n",
        "# Drop kolom id dari fitur numerik jika ada\n",
        "if 'id' in numerical_cols:\n",
        "    numerical_cols.remove('id')\n",
        "\n",
        "# Lakukan MinMax Scaling\n",
        "scaler = MinMaxScaler()\n",
        "df[numerical_cols] = scaler.fit_transform(df[numerical_cols])\n",
        "\n",
        "print(\"Contoh hasil feature scaling (MinMaxScaler):\")\n",
        "print(df[numerical_cols].head())\n"
      ],
      "metadata": {
        "id": "G7WXozOgpJp-",
        "colab": {
          "base_uri": "https://localhost:8080/"
        },
        "outputId": "072a4d2e-b3ab-40f6-d77c-18b7f152f3d5"
      },
      "execution_count": 29,
      "outputs": [
        {
          "output_type": "stream",
          "name": "stdout",
          "text": [
            "Contoh hasil feature scaling (MinMaxScaler):\n",
            "   TransactionAmount  CustomerAge  TransactionDuration  LoginAttempts  \\\n",
            "0           0.007207     0.838710             0.244828            0.0   \n",
            "1           0.195940     0.806452             0.451724            0.0   \n",
            "2           0.065680     0.016129             0.158621            0.0   \n",
            "3           0.096016     0.129032             0.051724            0.0   \n",
            "4           0.006874          NaN             0.648276            0.0   \n",
            "\n",
            "   AccountBalance  \n",
            "0        0.336832  \n",
            "1        0.918055  \n",
            "2        0.068637  \n",
            "3        0.569198  \n",
            "4        0.492591  \n"
          ]
        }
      ]
    },
    {
      "cell_type": "code",
      "source": [
        "# Melakukan drop pada kolom yang memiliki keterangan id dan IP Address\n",
        "df = df.drop(columns=['TransactionID', 'AccountID', 'DeviceID', 'MerchantID', 'IP Address'])\n",
        "print(df.head())"
      ],
      "metadata": {
        "id": "TGLR0NTwsMOp",
        "colab": {
          "base_uri": "https://localhost:8080/"
        },
        "outputId": "97ac4e60-1236-4bc6-adf0-82132182e465"
      },
      "execution_count": 30,
      "outputs": [
        {
          "output_type": "stream",
          "name": "stdout",
          "text": [
            "   TransactionAmount PreviousTransactionDate TransactionType   Location  \\\n",
            "0           0.007207     2023-04-11 16:29:14           Debit  San Diego   \n",
            "1           0.195940     2023-06-27 16:44:19           Debit    Houston   \n",
            "2           0.065680     2023-07-10 18:16:08           Debit       Mesa   \n",
            "3           0.096016     2023-05-05 16:32:11           Debit    Raleigh   \n",
            "4           0.006874     2023-10-16 17:51:24          Credit    Atlanta   \n",
            "\n",
            "  Channel  CustomerAge CustomerOccupation  TransactionDuration  LoginAttempts  \\\n",
            "0     ATM     0.838710             Doctor             0.244828            0.0   \n",
            "1     ATM     0.806452             Doctor             0.451724            0.0   \n",
            "2  Online     0.016129            Student             0.158621            0.0   \n",
            "3  Online     0.129032            Student             0.051724            0.0   \n",
            "4  Online          NaN            Student             0.648276            0.0   \n",
            "\n",
            "   AccountBalance     TransactionDate  \n",
            "0        0.336832  2024-11-04 8:08:08  \n",
            "1        0.918055  2024-11-04 8:09:35  \n",
            "2        0.068637  2024-11-04 8:07:04  \n",
            "3        0.569198  2024-11-04 8:09:06  \n",
            "4        0.492591  2024-11-04 8:06:39  \n"
          ]
        }
      ]
    },
    {
      "cell_type": "code",
      "source": [
        "# Melakukan feature encoding menggunakan LabelEncoder() untuk fitur kategorikal.\n",
        "# Pastikan kamu menggunakan function head setelah melalukan encoding.\n",
        "\n",
        "from sklearn.preprocessing import LabelEncoder\n",
        "\n",
        "# Pilih kolom kategorikal\n",
        "categorical_cols = df.select_dtypes(include='object').columns.tolist()\n",
        "\n",
        "# Terapkan LabelEncoder untuk setiap kolom kategorikal\n",
        "le = LabelEncoder()\n",
        "for col in categorical_cols:\n",
        "    df[col] = le.fit_transform(df[col])\n",
        "\n",
        "print(\"Contoh hasil feature encoding (LabelEncoder):\")\n",
        "print(df[categorical_cols].head())"
      ],
      "metadata": {
        "id": "6eycdNMQqx4c",
        "colab": {
          "base_uri": "https://localhost:8080/"
        },
        "outputId": "f24aa785-5a22-4cac-b507-ac78d15baf06"
      },
      "execution_count": 31,
      "outputs": [
        {
          "output_type": "stream",
          "name": "stdout",
          "text": [
            "Contoh hasil feature encoding (LabelEncoder):\n",
            "   PreviousTransactionDate  TransactionType  Location  Channel  \\\n",
            "0                      680                1        36        0   \n",
            "1                     1178                1        15        0   \n",
            "2                     1262                1        23        2   \n",
            "3                      818                1        33        2   \n",
            "4                     1939                0         1        2   \n",
            "\n",
            "   CustomerOccupation  TransactionDate  \n",
            "0                   0              105  \n",
            "1                   0              192  \n",
            "2                   3               41  \n",
            "3                   3              163  \n",
            "4                   3               16  \n"
          ]
        }
      ]
    },
    {
      "cell_type": "code",
      "source": [
        "df.columns.tolist()"
      ],
      "metadata": {
        "colab": {
          "base_uri": "https://localhost:8080/"
        },
        "id": "CxuOVM4mm2zK",
        "outputId": "33de075c-c3e6-4ed7-be8c-147c61e431f6"
      },
      "execution_count": 32,
      "outputs": [
        {
          "output_type": "execute_result",
          "data": {
            "text/plain": [
              "['TransactionAmount',\n",
              " 'PreviousTransactionDate',\n",
              " 'TransactionType',\n",
              " 'Location',\n",
              " 'Channel',\n",
              " 'CustomerAge',\n",
              " 'CustomerOccupation',\n",
              " 'TransactionDuration',\n",
              " 'LoginAttempts',\n",
              " 'AccountBalance',\n",
              " 'TransactionDate']"
            ]
          },
          "metadata": {},
          "execution_count": 32
        }
      ]
    },
    {
      "cell_type": "markdown",
      "source": [
        "(Opsional) Pembersihan dan Pra Pemrosesan Data [Skilled]\n",
        "\n",
        "**Biarkan kosong jika tidak menerapkan kriteria skilled**"
      ],
      "metadata": {
        "id": "qnbH2l_wv9l8"
      }
    },
    {
      "cell_type": "code",
      "source": [
        "# Menangani data yang hilang (bisa menggunakan dropna() atau metode imputasi fillna())."
      ],
      "metadata": {
        "id": "-UoGhAUrsxIV"
      },
      "execution_count": null,
      "outputs": []
    },
    {
      "cell_type": "code",
      "source": [
        "# Menghapus data duplikat menggunakan drop_duplicates()."
      ],
      "metadata": {
        "id": "WGt2XApTttSL"
      },
      "execution_count": null,
      "outputs": []
    },
    {
      "cell_type": "markdown",
      "source": [
        "(Opsional) Pembersihan dan Pra Pemrosesan Data [Advanced]\n",
        "\n",
        "**Biarkan kosong jika tidak menerapkan kriteria advanced**"
      ],
      "metadata": {
        "id": "H5RrswThwQrC"
      }
    },
    {
      "cell_type": "code",
      "source": [
        "# Melakukan Handling Outlier Data berdasarkan jumlah outlier, apakah menggunakan metode drop atau mengisi nilai tersebut."
      ],
      "metadata": {
        "id": "mvhfyYpat9Xs"
      },
      "execution_count": null,
      "outputs": []
    },
    {
      "cell_type": "code",
      "source": [
        "# Melakukan binning data berdasarkan kondisi rentang nilai pada fitur numerik,\n",
        "# lakukan pada satu sampai dua fitur numerik.\n",
        "# Silahkan lakukan encode hasil binning tersebut menggunakan LabelEncoder.\n",
        "# Pastikan kamu mengerjakan tahapan ini pada satu cell."
      ],
      "metadata": {
        "id": "QjcR-3G0u-GL"
      },
      "execution_count": null,
      "outputs": []
    },
    {
      "cell_type": "markdown",
      "source": [
        "# **4. Membangun Model Clustering**\n",
        "Pada tahap ini, Anda membangun model clustering dengan memilih algoritma yang sesuai untuk mengelompokkan data berdasarkan kesamaan.\n",
        "1. Pastikan Anda menggunakan dataframe yang sudah melalui processing sesuai dengan levelnya (Basic, Skilled, Advanced)\n",
        "2. Melakukan visualisasi Elbow Method untuk menentukan jumlah cluster terbaik menggunakan `KElbowVisualizer()`.\n",
        "3. Menggunakan algoritma K-Means Clustering dengan `sklearn.cluster.KMeans()`.\n",
        "4. Jalankan cell code `joblib.dump(model_kmeans, \"model_clustering.h5\")` untuk menyimpan model yang sudah dibuat."
      ],
      "metadata": {
        "id": "Fkd_QHXWMBDr"
      }
    },
    {
      "cell_type": "code",
      "source": [
        "# === 1. Preprocessing Data Numerik ===\n",
        "import pandas as pd\n",
        "from sklearn.preprocessing import StandardScaler\n",
        "from sklearn.cluster import KMeans\n",
        "from yellowbrick.cluster import KElbowVisualizer\n",
        "import joblib\n",
        "import matplotlib.pyplot as plt\n",
        "\n",
        "# Ambil fitur numerik dan hilangkan missing value\n",
        "df_clustering = df[['TransactionAmount', 'CustomerAge', 'TransactionDuration', 'LoginAttempts', 'AccountBalance']]\n",
        "df_clustering = df_clustering.dropna()\n",
        "\n",
        "# Buat DataFrame hasil scaling\n",
        "df_scaled = pd.DataFrame(scaled_data, columns=df_clustering.columns)\n",
        "\n",
        "# === 2. Tampilkan statistik deskriptif ===\n",
        "print(\"=== Statistik Deskriptif Data Setelah Scaling ===\")\n",
        "print(df_scaled.describe())\n",
        "\n",
        "# === 3. Visualisasi Elbow Method ===\n",
        "print(\"\\n=== Elbow Method ===\")\n",
        "model = KMeans()\n",
        "visualizer = KElbowVisualizer(model, k=(2,10))\n",
        "visualizer.fit(df_scaled)\n",
        "visualizer.show()\n",
        "\n",
        "# === 4. KMeans Clustering dan Simpan Model ===\n",
        "print(\"\\n=== Melatih Model KMeans ===\")\n",
        "model_kmeans = KMeans(n_clusters=3, random_state=42)\n",
        "model_kmeans.fit(df_scaled)\n",
        "\n",
        "# Simpan model\n",
        "joblib.dump(model_kmeans, \"model_clustering.h5\")\n",
        "print(\"Model berhasil disimpan sebagai 'model_clustering.h5'\")\n"
      ],
      "metadata": {
        "colab": {
          "base_uri": "https://localhost:8080/",
          "height": 958
        },
        "id": "433ubJBdoMuU",
        "outputId": "8387597e-6afc-40ec-f3da-cc7ac1a7d1c6"
      },
      "execution_count": 34,
      "outputs": [
        {
          "output_type": "stream",
          "name": "stdout",
          "text": [
            "=== Statistik Deskriptif Data Setelah Scaling ===\n",
            "       TransactionAmount   CustomerAge  TransactionDuration  LoginAttempts  \\\n",
            "count       2.420000e+03  2.420000e+03         2.420000e+03   2.420000e+03   \n",
            "mean       -1.012964e-16  1.159770e-16        -1.468064e-16  -3.229740e-17   \n",
            "std         1.000207e+00  1.000207e+00         1.000207e+00   1.000207e+00   \n",
            "min        -1.020966e+00 -1.493193e+00        -1.554512e+00  -2.032439e-01   \n",
            "25%        -7.405539e-01 -9.892064e-01        -8.011873e-01  -2.032439e-01   \n",
            "50%        -2.897467e-01  1.876644e-02        -1.047172e-01  -2.032439e-01   \n",
            "75%         3.917374e-01  8.027453e-01         5.953064e-01  -2.032439e-01   \n",
            "max         5.571004e+00  1.978714e+00         2.567454e+00   6.628010e+00   \n",
            "\n",
            "       AccountBalance  \n",
            "count    2.420000e+03  \n",
            "mean    -6.092464e-17  \n",
            "std      1.000207e+00  \n",
            "min     -1.278259e+00  \n",
            "25%     -9.227827e-01  \n",
            "50%     -1.062677e-01  \n",
            "75%      6.557115e-01  \n",
            "max      2.536099e+00  \n",
            "\n",
            "=== Elbow Method ===\n"
          ]
        },
        {
          "output_type": "display_data",
          "data": {
            "text/plain": [
              "<Figure size 800x550 with 2 Axes>"
            ],
            "image/png": "[encoded data removed]"
          },
          "metadata": {}
        },
        {
          "output_type": "stream",
          "name": "stdout",
          "text": [
            "\n",
            "=== Melatih Model KMeans ===\n",
            "Model berhasil disimpan sebagai 'model_clustering.h5'\n"
          ]
        }
      ]
    },
    {
      "cell_type": "markdown",
      "source": [
        "(Opsional) Membangun Model Clustering [Skilled]\n",
        "\n",
        "**Biarkan kosong jika tidak menerapkan kriteria skilled**"
      ],
      "metadata": {
        "id": "YDOD9eVMx3mC"
      }
    },
    {
      "cell_type": "code",
      "source": [
        "# Menghitung dan menampilkan nilai Silhouette Score."
      ],
      "metadata": {
        "id": "SELNsH5O4Oyn"
      },
      "execution_count": null,
      "outputs": []
    },
    {
      "cell_type": "code",
      "source": [
        "# Membuat visualisasi hasil clustering"
      ],
      "metadata": {
        "id": "K4EbkaXg4QAN"
      },
      "execution_count": null,
      "outputs": []
    },
    {
      "cell_type": "markdown",
      "source": [
        "(Opsional) Membangun Model Clustering [Advanced]\n",
        "\n",
        "**Biarkan kosong jika tidak menerapkan kriteria advanced**"
      ],
      "metadata": {
        "id": "uloMRbnsyAbB"
      }
    },
    {
      "cell_type": "code",
      "source": [
        "# Membangun model menggunakan PCA.\n",
        "# ___ =PCA(n_components=<x>)\n",
        "# ___ = ____.fit_transform(___)\n",
        "# Menyimpan data PCA sebagai Dataframe dengan nama PCA_<numbers>\n",
        "# <data_final> = pd.DataFrame(___, columns=['PCA1', 'PCA2', <sesuaikan dengan jumlah n>])\n",
        "# Pastikan kamu membangun model Kmeans baru dengan data yang sudah dimodifikasi melalui PCA.\n",
        "# ___ = KMeans(n_clusters=<x>)\n",
        "# ___.fit(<data_final>)"
      ],
      "metadata": {
        "id": "SgfOarXX4SD2"
      },
      "execution_count": null,
      "outputs": []
    },
    {
      "cell_type": "code",
      "source": [
        "# Simpan model PCA sebagai perbandingan dengan menjalankan cell code ini joblib.dump(model,\"PCA_model_clustering.h5\")\n",
        "# Pastikan yang disimpan model yang sudah melalui .fit berdasarkan dataset yang sudah dilakukan PCA\n",
        "# joblib.dump(___, \"PCA_model_clustering.h5\")"
      ],
      "metadata": {
        "id": "uKvJy9Ky4VB3"
      },
      "execution_count": null,
      "outputs": []
    },
    {
      "cell_type": "markdown",
      "source": [
        "# **5. Interpretasi Cluster**"
      ],
      "metadata": {
        "id": "anlTI9Trb7F6"
      }
    },
    {
      "cell_type": "markdown",
      "source": [
        "## **a. Interpretasi Hasil Clustering**\n",
        "1. **Contoh Interpretasi:**\n",
        "- **Cluster 1: (Nasabah Bertransaksi dan Pendapatan Besar)**:\n",
        "  - **Rata-rata (mean) Annual Income:** 0.953 (48,260)\n",
        "  - **Rata-rata (mean) Spending Score:** 0.8 (56.48)\n",
        "  - **Analisis:** Cluster ini mencakup pelanggan dengan pendapatan tahunan tinggi dan tingkat pengeluaran yang cukup tinggi. Pelanggan dalam cluster ini cenderung memiliki daya beli yang tinggi dan mereka lebih cenderung untuk membelanjakan sebagian besar pendapatan mereka. Sehingga rekomendasi pada kelompok nasabah ini adalah dengan menawarkan produk-produk investasi atau perbankan yang berkualitas tinggi.\n"
      ],
      "metadata": {
        "id": "JfgVMEBDS3KG"
      }
    },
    {
      "cell_type": "code",
      "source": [
        "# Menampilkan analisis deskriptif minimal mean, min dan max untuk fitur numerik.\n",
        "# Silakan menambahkan fungsi agregasi lainnya untuk experience lebih baik.\n",
        "# pastikan output menghasilkan agregasi dan groupby bersamaan dengan mean, min, dan max.\n",
        "\n",
        "from sklearn.cluster import KMeans\n",
        "\n",
        "# Tambahkan label cluster ke DataFrame hasil scaling\n",
        "df_scaled['Cluster'] = model_kmeans.labels_\n",
        "\n",
        "# Hitung agregasi (mean, min, max) per cluster\n",
        "cluster_summary = df_scaled.groupby('Cluster').agg(['mean', 'min', 'max'])\n",
        "cluster_summary\n"
      ],
      "metadata": {
        "id": "Qmpy4fmV64Mi",
        "colab": {
          "base_uri": "https://localhost:8080/",
          "height": 206
        },
        "outputId": "8cef63b8-875c-4302-c317-29027beac80b"
      },
      "execution_count": 35,
      "outputs": [
        {
          "output_type": "execute_result",
          "data": {
            "text/plain": [
              "        TransactionAmount                     CustomerAge                      \\\n",
              "                     mean       min       max        mean       min       max   \n",
              "Cluster                                                                         \n",
              "0               -0.064187 -1.020760  5.268382    0.650069 -1.213200  1.978714   \n",
              "1               -0.011006 -1.020314  5.571004    0.126047 -1.493193  1.978714   \n",
              "2                0.096912 -1.020966  5.032234   -0.991935 -1.493193  0.746747   \n",
              "\n",
              "        TransactionDuration                     LoginAttempts            \\\n",
              "                       mean       min       max          mean       min   \n",
              "Cluster                                                                   \n",
              "0                 -0.448722 -1.554512  0.876026     -0.170098 -0.203244   \n",
              "1                  1.293878 -0.914897  2.567454      0.476209 -0.203244   \n",
              "2                 -0.303162 -1.554512  1.828343     -0.104716 -0.203244   \n",
              "\n",
              "                  AccountBalance                      \n",
              "              max           mean       min       max  \n",
              "Cluster                                               \n",
              "0        4.920196       0.526218 -1.252673  2.536099  \n",
              "1        6.628010       0.145133 -1.269360  2.523372  \n",
              "2        6.628010      -0.833785 -1.278259  1.250368  "
            ],
            "text/html": [
              "\n",
              "  <div id=\"df-905937cc-c460-4467-9ac3-7f9eb0edf253\" class=\"colab-df-container\">\n",
              "    <div>\n",
              "<style scoped>\n",
              "    .dataframe tbody tr th:only-of-type {\n",
              "        vertical-align: middle;\n",
              "    }\n",
              "\n",
              "    .dataframe tbody tr th {\n",
              "        vertical-align: top;\n",
              "    }\n",
              "\n",
              "    .dataframe thead tr th {\n",
              "        text-align: left;\n",
              "    }\n",
              "\n",
              "    .dataframe thead tr:last-of-type th {\n",
              "        text-align: right;\n",
              "    }\n",
              "</style>\n",
              "<table border=\"1\" class=\"dataframe\">\n",
              "  <thead>\n",
              "    <tr>\n",
              "      <th></th>\n",
              "      <th colspan=\"3\" halign=\"left\">TransactionAmount</th>\n",
              "      <th colspan=\"3\" halign=\"left\">CustomerAge</th>\n",
              "      <th colspan=\"3\" halign=\"left\">TransactionDuration</th>\n",
              "      <th colspan=\"3\" halign=\"left\">LoginAttempts</th>\n",
              "      <th colspan=\"3\" halign=\"left\">AccountBalance</th>\n",
              "    </tr>\n",
              "    <tr>\n",
              "      <th></th>\n",
              "      <th>mean</th>\n",
              "      <th>min</th>\n",
              "      <th>max</th>\n",
              "      <th>mean</th>\n",
              "      <th>min</th>\n",
              "      <th>max</th>\n",
              "      <th>mean</th>\n",
              "      <th>min</th>\n",
              "      <th>max</th>\n",
              "      <th>mean</th>\n",
              "      <th>min</th>\n",
              "      <th>max</th>\n",
              "      <th>mean</th>\n",
              "      <th>min</th>\n",
              "      <th>max</th>\n",
              "    </tr>\n",
              "    <tr>\n",
              "      <th>Cluster</th>\n",
              "      <th></th>\n",
              "      <th></th>\n",
              "      <th></th>\n",
              "      <th></th>\n",
              "      <th></th>\n",
              "      <th></th>\n",
              "      <th></th>\n",
              "      <th></th>\n",
              "      <th></th>\n",
              "      <th></th>\n",
              "      <th></th>\n",
              "      <th></th>\n",
              "      <th></th>\n",
              "      <th></th>\n",
              "      <th></th>\n",
              "    </tr>\n",
              "  </thead>\n",
              "  <tbody>\n",
              "    <tr>\n",
              "      <th>0</th>\n",
              "      <td>-0.064187</td>\n",
              "      <td>-1.020760</td>\n",
              "      <td>5.268382</td>\n",
              "      <td>0.650069</td>\n",
              "      <td>-1.213200</td>\n",
              "      <td>1.978714</td>\n",
              "      <td>-0.448722</td>\n",
              "      <td>-1.554512</td>\n",
              "      <td>0.876026</td>\n",
              "      <td>-0.170098</td>\n",
              "      <td>-0.203244</td>\n",
              "      <td>4.920196</td>\n",
              "      <td>0.526218</td>\n",
              "      <td>-1.252673</td>\n",
              "      <td>2.536099</td>\n",
              "    </tr>\n",
              "    <tr>\n",
              "      <th>1</th>\n",
              "      <td>-0.011006</td>\n",
              "      <td>-1.020314</td>\n",
              "      <td>5.571004</td>\n",
              "      <td>0.126047</td>\n",
              "      <td>-1.493193</td>\n",
              "      <td>1.978714</td>\n",
              "      <td>1.293878</td>\n",
              "      <td>-0.914897</td>\n",
              "      <td>2.567454</td>\n",
              "      <td>0.476209</td>\n",
              "      <td>-0.203244</td>\n",
              "      <td>6.628010</td>\n",
              "      <td>0.145133</td>\n",
              "      <td>-1.269360</td>\n",
              "      <td>2.523372</td>\n",
              "    </tr>\n",
              "    <tr>\n",
              "      <th>2</th>\n",
              "      <td>0.096912</td>\n",
              "      <td>-1.020966</td>\n",
              "      <td>5.032234</td>\n",
              "      <td>-0.991935</td>\n",
              "      <td>-1.493193</td>\n",
              "      <td>0.746747</td>\n",
              "      <td>-0.303162</td>\n",
              "      <td>-1.554512</td>\n",
              "      <td>1.828343</td>\n",
              "      <td>-0.104716</td>\n",
              "      <td>-0.203244</td>\n",
              "      <td>6.628010</td>\n",
              "      <td>-0.833785</td>\n",
              "      <td>-1.278259</td>\n",
              "      <td>1.250368</td>\n",
              "    </tr>\n",
              "  </tbody>\n",
              "</table>\n",
              "</div>\n",
              "    <div class=\"colab-df-buttons\">\n",
              "\n",
              "  <div class=\"colab-df-container\">\n",
              "    <button class=\"colab-df-convert\" onclick=\"convertToInteractive('df-905937cc-c460-4467-9ac3-7f9eb0edf253')\"\n",
              "            title=\"Convert this dataframe to an interactive table.\"\n",
              "            style=\"display:none;\">\n",
              "\n",
              "  <svg xmlns=\"http://www.w3.org/2000/svg\" height=\"24px\" viewBox=\"0 -960 960 960\">\n",
              "    <path d=\"M120-120v-720h720v720H120Zm60-500h600v-160H180v160Zm220 220h160v-160H400v160Zm0 220h160v-160H400v160ZM180-400h160v-160H180v160Zm440 0h160v-160H620v160ZM180-180h160v-160H180v160Zm440 0h160v-160H620v160Z\"/>\n",
              "  </svg>\n",
              "    </button>\n",
              "\n",
              "  <style>\n",
              "    .colab-df-container {\n",
              "      display:flex;\n",
              "      gap: 12px;\n",
              "    }\n",
              "\n",
              "    .colab-df-convert {\n",
              "      background-color: #E8F0FE;\n",
              "      border: none;\n",
              "      border-radius: 50%;\n",
              "      cursor: pointer;\n",
              "      display: none;\n",
              "      fill: #1967D2;\n",
              "      height: 32px;\n",
              "      padding: 0 0 0 0;\n",
              "      width: 32px;\n",
              "    }\n",
              "\n",
              "    .colab-df-convert:hover {\n",
              "      background-color: #E2EBFA;\n",
              "      box-shadow: 0px 1px 2px rgba(60, 64, 67, 0.3), 0px 1px 3px 1px rgba(60, 64, 67, 0.15);\n",
              "      fill: #174EA6;\n",
              "    }\n",
              "\n",
              "    .colab-df-buttons div {\n",
              "      margin-bottom: 4px;\n",
              "    }\n",
              "\n",
              "    [theme=dark] .colab-df-convert {\n",
              "      background-color: #3B4455;\n",
              "      fill: #D2E3FC;\n",
              "    }\n",
              "\n",
              "    [theme=dark] .colab-df-convert:hover {\n",
              "      background-color: #434B5C;\n",
              "      box-shadow: 0px 1px 3px 1px rgba(0, 0, 0, 0.15);\n",
              "      filter: drop-shadow(0px 1px 2px rgba(0, 0, 0, 0.3));\n",
              "      fill: #FFFFFF;\n",
              "    }\n",
              "  </style>\n",
              "\n",
              "    <script>\n",
              "      const buttonEl =\n",
              "        document.querySelector('#df-905937cc-c460-4467-9ac3-7f9eb0edf253 button.colab-df-convert');\n",
              "      buttonEl.style.display =\n",
              "        google.colab.kernel.accessAllowed ? 'block' : 'none';\n",
              "\n",
              "      async function convertToInteractive(key) {\n",
              "        const element = document.querySelector('#df-905937cc-c460-4467-9ac3-7f9eb0edf253');\n",
              "        const dataTable =\n",
              "          await google.colab.kernel.invokeFunction('convertToInteractive',\n",
              "                                                    [key], {});\n",
              "        if (!dataTable) return;\n",
              "\n",
              "        const docLinkHtml = 'Like what you see? Visit the ' +\n",
              "          '<a target=\"_blank\" href=https://colab.research.google.com/notebooks/data_table.ipynb>data table notebook</a>'\n",
              "          + ' to learn more about interactive tables.';\n",
              "        element.innerHTML = '';\n",
              "        dataTable['output_type'] = 'display_data';\n",
              "        await google.colab.output.renderOutput(dataTable, element);\n",
              "        const docLink = document.createElement('div');\n",
              "        docLink.innerHTML = docLinkHtml;\n",
              "        element.appendChild(docLink);\n",
              "      }\n",
              "    </script>\n",
              "  </div>\n",
              "\n",
              "\n",
              "    <div id=\"df-f964c5b8-d0cf-4115-a1ef-75c462f29494\">\n",
              "      <button class=\"colab-df-quickchart\" onclick=\"quickchart('df-f964c5b8-d0cf-4115-a1ef-75c462f29494')\"\n",
              "                title=\"Suggest charts\"\n",
              "                style=\"display:none;\">\n",
              "\n",
              "<svg xmlns=\"http://www.w3.org/2000/svg\" height=\"24px\"viewBox=\"0 0 24 24\"\n",
              "     width=\"24px\">\n",
              "    <g>\n",
              "        <path d=\"M19 3H5c-1.1 0-2 .9-2 2v14c0 1.1.9 2 2 2h14c1.1 0 2-.9 2-2V5c0-1.1-.9-2-2-2zM9 17H7v-7h2v7zm4 0h-2V7h2v10zm4 0h-2v-4h2v4z\"/>\n",
              "    </g>\n",
              "</svg>\n",
              "      </button>\n",
              "\n",
              "<style>\n",
              "  .colab-df-quickchart {\n",
              "      --bg-color: #E8F0FE;\n",
              "      --fill-color: #1967D2;\n",
              "      --hover-bg-color: #E2EBFA;\n",
              "      --hover-fill-color: #174EA6;\n",
              "      --disabled-fill-color: #AAA;\n",
              "      --disabled-bg-color: #DDD;\n",
              "  }\n",
              "\n",
              "  [theme=dark] .colab-df-quickchart {\n",
              "      --bg-color: #3B4455;\n",
              "      --fill-color: #D2E3FC;\n",
              "      --hover-bg-color: #434B5C;\n",
              "      --hover-fill-color: #FFFFFF;\n",
              "      --disabled-bg-color: #3B4455;\n",
              "      --disabled-fill-color: #666;\n",
              "  }\n",
              "\n",
              "  .colab-df-quickchart {\n",
              "    background-color: var(--bg-color);\n",
              "    border: none;\n",
              "    border-radius: 50%;\n",
              "    cursor: pointer;\n",
              "    display: none;\n",
              "    fill: var(--fill-color);\n",
              "    height: 32px;\n",
              "    padding: 0;\n",
              "    width: 32px;\n",
              "  }\n",
              "\n",
              "  .colab-df-quickchart:hover {\n",
              "    background-color: var(--hover-bg-color);\n",
              "    box-shadow: 0 1px 2px rgba(60, 64, 67, 0.3), 0 1px 3px 1px rgba(60, 64, 67, 0.15);\n",
              "    fill: var(--button-hover-fill-color);\n",
              "  }\n",
              "\n",
              "  .colab-df-quickchart-complete:disabled,\n",
              "  .colab-df-quickchart-complete:disabled:hover {\n",
              "    background-color: var(--disabled-bg-color);\n",
              "    fill: var(--disabled-fill-color);\n",
              "    box-shadow: none;\n",
              "  }\n",
              "\n",
              "  .colab-df-spinner {\n",
              "    border: 2px solid var(--fill-color);\n",
              "    border-color: transparent;\n",
              "    border-bottom-color: var(--fill-color);\n",
              "    animation:\n",
              "      spin 1s steps(1) infinite;\n",
              "  }\n",
              "\n",
              "  @keyframes spin {\n",
              "    0% {\n",
              "      border-color: transparent;\n",
              "      border-bottom-color: var(--fill-color);\n",
              "      border-left-color: var(--fill-color);\n",
              "    }\n",
              "    20% {\n",
              "      border-color: transparent;\n",
              "      border-left-color: var(--fill-color);\n",
              "      border-top-color: var(--fill-color);\n",
              "    }\n",
              "    30% {\n",
              "      border-color: transparent;\n",
              "      border-left-color: var(--fill-color);\n",
              "      border-top-color: var(--fill-color);\n",
              "      border-right-color: var(--fill-color);\n",
              "    }\n",
              "    40% {\n",
              "      border-color: transparent;\n",
              "      border-right-color: var(--fill-color);\n",
              "      border-top-color: var(--fill-color);\n",
              "    }\n",
              "    60% {\n",
              "      border-color: transparent;\n",
              "      border-right-color: var(--fill-color);\n",
              "    }\n",
              "    80% {\n",
              "      border-color: transparent;\n",
              "      border-right-color: var(--fill-color);\n",
              "      border-bottom-color: var(--fill-color);\n",
              "    }\n",
              "    90% {\n",
              "      border-color: transparent;\n",
              "      border-bottom-color: var(--fill-color);\n",
              "    }\n",
              "  }\n",
              "</style>\n",
              "\n",
              "      <script>\n",
              "        async function quickchart(key) {\n",
              "          const quickchartButtonEl =\n",
              "            document.querySelector('#' + key + ' button');\n",
              "          quickchartButtonEl.disabled = true;  // To prevent multiple clicks.\n",
              "          quickchartButtonEl.classList.add('colab-df-spinner');\n",
              "          try {\n",
              "            const charts = await google.colab.kernel.invokeFunction(\n",
              "                'suggestCharts', [key], {});\n",
              "          } catch (error) {\n",
              "            console.error('Error during call to suggestCharts:', error);\n",
              "          }\n",
              "          quickchartButtonEl.classList.remove('colab-df-spinner');\n",
              "          quickchartButtonEl.classList.add('colab-df-quickchart-complete');\n",
              "        }\n",
              "        (() => {\n",
              "          let quickchartButtonEl =\n",
              "            document.querySelector('#df-f964c5b8-d0cf-4115-a1ef-75c462f29494 button');\n",
              "          quickchartButtonEl.style.display =\n",
              "            google.colab.kernel.accessAllowed ? 'block' : 'none';\n",
              "        })();\n",
              "      </script>\n",
              "    </div>\n",
              "\n",
              "  <div id=\"id_236b8987-eb1e-4567-8d27-f6609bd7d858\">\n",
              "    <style>\n",
              "      .colab-df-generate {\n",
              "        background-color: #E8F0FE;\n",
              "        border: none;\n",
              "        border-radius: 50%;\n",
              "        cursor: pointer;\n",
              "        display: none;\n",
              "        fill: #1967D2;\n",
              "        height: 32px;\n",
              "        padding: 0 0 0 0;\n",
              "        width: 32px;\n",
              "      }\n",
              "\n",
              "      .colab-df-generate:hover {\n",
              "        background-color: #E2EBFA;\n",
              "        box-shadow: 0px 1px 2px rgba(60, 64, 67, 0.3), 0px 1px 3px 1px rgba(60, 64, 67, 0.15);\n",
              "        fill: #174EA6;\n",
              "      }\n",
              "\n",
              "      [theme=dark] .colab-df-generate {\n",
              "        background-color: #3B4455;\n",
              "        fill: #D2E3FC;\n",
              "      }\n",
              "\n",
              "      [theme=dark] .colab-df-generate:hover {\n",
              "        background-color: #434B5C;\n",
              "        box-shadow: 0px 1px 3px 1px rgba(0, 0, 0, 0.15);\n",
              "        filter: drop-shadow(0px 1px 2px rgba(0, 0, 0, 0.3));\n",
              "        fill: #FFFFFF;\n",
              "      }\n",
              "    </style>\n",
              "    <button class=\"colab-df-generate\" onclick=\"generateWithVariable('cluster_summary')\"\n",
              "            title=\"Generate code using this dataframe.\"\n",
              "            style=\"display:none;\">\n",
              "\n",
              "  <svg xmlns=\"http://www.w3.org/2000/svg\" height=\"24px\"viewBox=\"0 0 24 24\"\n",
              "       width=\"24px\">\n",
              "    <path d=\"M7,19H8.4L18.45,9,17,7.55,7,17.6ZM5,21V16.75L18.45,3.32a2,2,0,0,1,2.83,0l1.4,1.43a1.91,1.91,0,0,1,.58,1.4,1.91,1.91,0,0,1-.58,1.4L9.25,21ZM18.45,9,17,7.55Zm-12,3A5.31,5.31,0,0,0,4.9,8.1,5.31,5.31,0,0,0,1,6.5,5.31,5.31,0,0,0,4.9,4.9,5.31,5.31,0,0,0,6.5,1,5.31,5.31,0,0,0,8.1,4.9,5.31,5.31,0,0,0,12,6.5,5.46,5.46,0,0,0,6.5,12Z\"/>\n",
              "  </svg>\n",
              "    </button>\n",
              "    <script>\n",
              "      (() => {\n",
              "      const buttonEl =\n",
              "        document.querySelector('#id_236b8987-eb1e-4567-8d27-f6609bd7d858 button.colab-df-generate');\n",
              "      buttonEl.style.display =\n",
              "        google.colab.kernel.accessAllowed ? 'block' : 'none';\n",
              "\n",
              "      buttonEl.onclick = () => {\n",
              "        google.colab.notebook.generateWithVariable('cluster_summary');\n",
              "      }\n",
              "      })();\n",
              "    </script>\n",
              "  </div>\n",
              "\n",
              "    </div>\n",
              "  </div>\n"
            ],
            "application/vnd.google.colaboratory.intrinsic+json": {
              "type": "dataframe",
              "variable_name": "cluster_summary",
              "summary": "{\n  \"name\": \"cluster_summary\",\n  \"rows\": 3,\n  \"fields\": [\n    {\n      \"column\": [\n        \"Cluster\",\n        \"\"\n      ],\n      \"properties\": {\n        \"dtype\": \"int32\",\n        \"num_unique_values\": 3,\n        \"samples\": [\n          0,\n          1,\n          2\n        ],\n        \"semantic_type\": \"\",\n        \"description\": \"\"\n      }\n    },\n    {\n      \"column\": [\n        \"TransactionAmount\",\n        \"mean\"\n      ],\n      \"properties\": {\n        \"dtype\": \"number\",\n        \"std\": 0.08208448945575249,\n        \"min\": -0.06418650256022117,\n        \"max\": 0.09691192754479913,\n        \"num_unique_values\": 3,\n        \"samples\": [\n          -0.06418650256022117,\n          -0.011006286227211963,\n          0.09691192754479913\n        ],\n        \"semantic_type\": \"\",\n        \"description\": \"\"\n      }\n    },\n    {\n      \"column\": [\n        \"TransactionAmount\",\n        \"min\"\n      ],\n      \"properties\": {\n        \"dtype\": \"number\",\n        \"std\": 0.0003336620628535395,\n        \"min\": -1.020966418042284,\n        \"max\": -1.0203136966582103,\n        \"num_unique_values\": 3,\n        \"samples\": [\n          -1.0207602954999448,\n          -1.0203136966582103,\n          -1.020966418042284\n        ],\n        \"semantic_type\": \"\",\n        \"description\": \"\"\n      }\n    },\n    {\n      \"column\": [\n        \"TransactionAmount\",\n        \"max\"\n      ],\n      \"properties\": {\n        \"dtype\": \"number\",\n        \"std\": 0.27006760106134237,\n        \"min\": 5.032234282831301,\n        \"max\": 5.571004254748762,\n        \"num_unique_values\": 3,\n        \"samples\": [\n          5.268382008837845,\n          5.571004254748762,\n          5.032234282831301\n        ],\n        \"semantic_type\": \"\",\n        \"description\": \"\"\n      }\n    },\n    {\n      \"column\": [\n        \"CustomerAge\",\n        \"mean\"\n      ],\n      \"properties\": {\n        \"dtype\": \"number\",\n        \"std\": 0.8387151043275366,\n        \"min\": -0.9919345646093033,\n        \"max\": 0.650069223428367,\n        \"num_unique_values\": 3,\n        \"samples\": [\n          0.650069223428367,\n          0.12604670366624324,\n          -0.9919345646093033\n        ],\n        \"semantic_type\": \"\",\n        \"description\": \"\"\n      }\n    },\n    {\n      \"column\": [\n        \"CustomerAge\",\n        \"min\"\n      ],\n      \"properties\": {\n        \"dtype\": \"number\",\n        \"std\": 0.1616537243895501,\n        \"min\": -1.4931928678857906,\n        \"max\": -1.2132004040103537,\n        \"num_unique_values\": 2,\n        \"samples\": [\n          -1.4931928678857906,\n          -1.2132004040103537\n        ],\n        \"semantic_type\": \"\",\n        \"description\": \"\"\n      }\n    },\n    {\n      \"column\": [\n        \"CustomerAge\",\n        \"max\"\n      ],\n      \"properties\": {\n        \"dtype\": \"number\",\n        \"std\": 0.7112763873140204,\n        \"min\": 0.7467468431177045,\n        \"max\": 1.9787136841696271,\n        \"num_unique_values\": 2,\n        \"samples\": [\n          0.7467468431177045,\n          1.9787136841696271\n        ],\n        \"semantic_type\": \"\",\n        \"description\": \"\"\n      }\n    },\n    {\n      \"column\": [\n        \"TransactionDuration\",\n        \"mean\"\n      ],\n      \"properties\": {\n        \"dtype\": \"number\",\n        \"std\": 0.9668143808954667,\n        \"min\": -0.4487223255878862,\n        \"max\": 1.2938779759256034,\n        \"num_unique_values\": 3,\n        \"samples\": [\n          -0.4487223255878862,\n          1.2938779759256034\n        ],\n        \"semantic_type\": \"\",\n        \"description\": \"\"\n      }\n    },\n    {\n      \"column\": [\n        \"TransactionDuration\",\n        \"min\"\n      ],\n      \"properties\": {\n        \"dtype\": \"number\",\n        \"std\": 0.3692821425648405,\n        \"min\": -1.554512186436148,\n        \"max\": -0.9148967531859507,\n        \"num_unique_values\": 2,\n        \"samples\": [\n          -0.9148967531859507,\n          -1.554512186436148\n        ],\n        \"semantic_type\": \"\",\n        \"description\": \"\"\n      }\n    },\n    {\n      \"column\": [\n        \"TransactionDuration\",\n        \"max\"\n      ],\n      \"properties\": {\n        \"dtype\": \"number\",\n        \"std\": 0.8479503318863773,\n        \"min\": 0.8760264599146025,\n        \"max\": 2.567453938954013,\n        \"num_unique_values\": 3,\n        \"samples\": [\n          0.8760264599146025,\n          2.567453938954013\n        ],\n        \"semantic_type\": \"\",\n        \"description\": \"\"\n      }\n    },\n    {\n      \"column\": [\n        \"LoginAttempts\",\n        \"mean\"\n      ],\n      \"properties\": {\n        \"dtype\": \"number\",\n        \"std\": 0.3557763223058033,\n        \"min\": -0.1700978139364189,\n        \"max\": 0.4762087518464234,\n        \"num_unique_values\": 3,\n        \"samples\": [\n          -0.1700978139364189,\n          0.4762087518464234\n        ],\n        \"semantic_type\": \"\",\n        \"description\": \"\"\n      }\n    },\n    {\n      \"column\": [\n        \"LoginAttempts\",\n        \"min\"\n      ],\n      \"properties\": {\n        \"dtype\": \"number\",\n        \"std\": 3.3993498887762956e-17,\n        \"min\": -0.2032439162702308,\n        \"max\": -0.2032439162702308,\n        \"num_unique_values\": 1,\n        \"samples\": [\n          -0.2032439162702308\n        ],\n        \"semantic_type\": \"\",\n        \"description\": \"\"\n      }\n    },\n    {\n      \"column\": [\n        \"LoginAttempts\",\n        \"max\"\n      ],\n      \"properties\": {\n        \"dtype\": \"number\",\n        \"std\": 0.9860065626487744,\n        \"min\": 4.9201964730418375,\n        \"max\": 6.62800993614586,\n        \"num_unique_values\": 2,\n        \"samples\": [\n          6.62800993614586\n        ],\n        \"semantic_type\": \"\",\n        \"description\": \"\"\n      }\n    },\n    {\n      \"column\": [\n        \"AccountBalance\",\n        \"mean\"\n      ],\n      \"properties\": {\n        \"dtype\": \"number\",\n        \"std\": 0.701559191420912,\n        \"min\": -0.8337845841641902,\n        \"max\": 0.5262176534220919,\n        \"num_unique_values\": 3,\n        \"samples\": [\n          0.5262176534220919\n        ],\n        \"semantic_type\": \"\",\n        \"description\": \"\"\n      }\n    },\n    {\n      \"column\": [\n        \"AccountBalance\",\n        \"min\"\n      ],\n      \"properties\": {\n        \"dtype\": \"number\",\n        \"std\": 0.01298893527084486,\n        \"min\": -1.2782592152942176,\n        \"max\": -1.2526733131627261,\n        \"num_unique_values\": 3,\n        \"samples\": [\n          -1.2526733131627261\n        ],\n        \"semantic_type\": \"\",\n        \"description\": \"\"\n      }\n    },\n    {\n      \"column\": [\n        \"AccountBalance\",\n        \"max\"\n      ],\n      \"properties\": {\n        \"dtype\": \"number\",\n        \"std\": 0.7386702359914038,\n        \"min\": 1.250368391149985,\n        \"max\": 2.536099073869465,\n        \"num_unique_values\": 3,\n        \"samples\": [\n          2.536099073869465\n        ],\n        \"semantic_type\": \"\",\n        \"description\": \"\"\n      }\n    }\n  ]\n}"
            }
          },
          "metadata": {},
          "execution_count": 35
        }
      ]
    },
    {
      "cell_type": "markdown",
      "source": [
        "# Menjelaskan karakteristik tiap cluster berdasarkan rentangnya.\n",
        "\n",
        "# Menjelaskan karakteristik tiap cluster berdasarkan rentangnya.\n",
        "\n",
        "1. **Cluster 0: (Nasabah dengan Aktivitas Sedang dan Saldo Stabil)**:\n",
        "   - **Rata-rata (mean) <Fitur>:**\n",
        "     - TransactionAmount: **-0.064187** ➜ Rp 93.581\n",
        "     - CustomerAge: **0.650069** ➜ 32 tahun\n",
        "     - TransactionDuration: **-0.448722** ➜ 55 detik\n",
        "     - LoginAttempts: **0.876026** ➜ 2 kali\n",
        "     - AccountBalance: **0.526218** ➜ Rp 5.526.218\n",
        "   - **Analisis:** Cluster ini mencakup nasabah dengan usia dewasa muda, memiliki saldo rekening yang stabil dan aktivitas transaksi serta login yang cukup sering. Mereka kemungkinan adalah pekerja aktif atau profesional. Direkomendasikan untuk menawarkan produk investasi atau kartu kredit.\n",
        "\n",
        "2. **Cluster 1: (Nasabah Muda dengan Aktivitas Rendah)**:\n",
        "   - **Rata-rata (mean) <Fitur>:**\n",
        "     - TransactionAmount: **-0.011006** ➜ Rp 98.899\n",
        "     - CustomerAge: **0.126047** ➜ 27 tahun\n",
        "     - TransactionDuration: **1.293878** ➜ 68 detik\n",
        "     - LoginAttempts: **-0.914897** ➜ 0 kali\n",
        "     - AccountBalance: **0.145133** ➜ Rp 5.145.133\n",
        "   - **Analisis:** Cluster ini terdiri dari nasabah berusia muda, dengan saldo rekening yang cukup tinggi namun aktivitas login yang sangat rendah. Mereka kemungkinan adalah pelajar atau pengguna baru layanan perbankan dengan potensi pendapatan awal. Direkomendasikan untuk ditawarkan produk tabungan pemula atau edukasi keuangan.\n",
        "\n",
        "3. **Cluster 2: (Nasabah Tua dengan Aktivitas Tinggi)**:\n",
        "   - **Rata-rata (mean) <Fitur>:**\n",
        "     - TransactionAmount: **0.096912** ➜ Rp 105.691\n",
        "     - CustomerAge: **-0.991935** ➜ 43 tahun\n",
        "     - TransactionDuration: **-0.303162** ➜ 57 detik\n",
        "     - LoginAttempts: **1.828343** ➜ 3 kali\n",
        "     - AccountBalance: **-0.833785** ➜ Rp 4.166.215\n",
        "   - **Analisis:** Cluster ini mencakup nasabah dengan usia lebih tua, memiliki aktivitas transaksi dan login yang tinggi serta saldo yang cukup besar. Mereka kemungkinan adalah pensiunan atau individu dengan pendapatan tetap. Direkomendasikan untuk menawarkan produk asuransi atau tabungan pensiun.\n"
      ],
      "metadata": {
        "id": "KrjMI_dG6tnb"
      }
    },
    {
      "cell_type": "markdown",
      "source": [
        "# **6. Mengeksport Data**\n",
        "\n",
        "1. Simpan nama kolom hasil clustering dengan nama `Target`.\n",
        "2. Simpan hasilnya ke dalam file CSV menggunakan function `to_csv()`."
      ],
      "metadata": {
        "id": "jaYP1fx5VgWO"
      }
    },
    {
      "cell_type": "code",
      "source": [
        "# ✅ Pastikan nama kolom clustering sudah diubah menjadi 'Target'\n",
        "df_scaled.rename(columns={'Cluster': 'Target'}, inplace=True)\n",
        "\n",
        "# ✅ Simpan Data\n",
        "df_scaled.to_csv('data_clustering.csv', index=False)\n"
      ],
      "metadata": {
        "id": "N6lPPeXurMtx"
      },
      "execution_count": 37,
      "outputs": []
    },
    {
      "cell_type": "markdown",
      "source": [
        "(Opsional) Interpretasi Hasil Clustering [Skilled]\n",
        "\n",
        "**Biarkan kosong jika tidak menerapkan kriteria skilled**"
      ],
      "metadata": {
        "id": "rz1vFc2yzFPD"
      }
    },
    {
      "cell_type": "code",
      "source": [
        "# inverse dataset ke rentang normal untuk numerikal\n",
        "# df[numerical_cols] = <nama_scaler>.inverse_transform(df[numerical_cols])\n",
        "# tampilkan dataset yang sudah di-inverse\n",
        "# ___.head()"
      ],
      "metadata": {
        "id": "OMcRV15y_hH3"
      },
      "execution_count": null,
      "outputs": []
    },
    {
      "cell_type": "code",
      "source": [
        "# inverse dataset yang sudah diencode ke kategori aslinya.\n",
        "# Lengkapi kode berikut jika ingin menerapkan kriteria ini (silakan hapus simbol pagar pada kode yang akan digunakan.)\n",
        "# for ___ in categorical_cols:\n",
        "#     ___ = encoders[col]\n",
        "#     df[col] = ___.inverse_transform(df_inverse[col].astype(int))\n",
        "# tampilkan dataset yang sudah di-inverse\n",
        "# ___.head()"
      ],
      "metadata": {
        "id": "wzIddcB6XjrC"
      },
      "execution_count": null,
      "outputs": []
    },
    {
      "cell_type": "code",
      "source": [
        "# Lakukan analisis deskriptif minimal mean, min dan max untuk fitur numerik dan mode untuk kategorikal seperti pada basic tetapi menggunakan data yang sudah diinverse.\n",
        "# pastikan output menghasilkan agregasi dan groupby bersamaan dengan mean, min, dan max kembali setelah melakukan inverse."
      ],
      "metadata": {
        "id": "omCabiXBTklU"
      },
      "execution_count": null,
      "outputs": []
    },
    {
      "cell_type": "markdown",
      "source": [
        "## Menjelaskan karakteristik tiap cluster berdasarkan rentangnya setelah inverse.\n",
        "1. **Cluster 1: (___)**:\n",
        "  - **Rata-rata (mean) <Fitur>:** <Sebelum inverse> <Setelah inverse>\n",
        "  - **Analisis:** Cluster ini ..."
      ],
      "metadata": {
        "id": "WcaT8sxVzLs6"
      }
    },
    {
      "cell_type": "markdown",
      "source": [
        "(Opsional) Interpretasi Hasil Clustering [Advanced]\n",
        "\n",
        "**Biarkan kosong jika tidak menerapkan kriteria advanced**"
      ],
      "metadata": {
        "id": "jSd6vZslzatv"
      }
    },
    {
      "cell_type": "code",
      "source": [
        "# Mengintegrasikan kembali data yang telah di-inverse dengan hasil cluster."
      ],
      "metadata": {
        "id": "4mGIyUZ2zRCP"
      },
      "execution_count": null,
      "outputs": []
    },
    {
      "cell_type": "code",
      "source": [
        "# Simpan Data\n",
        "# ___.to_csv('data_clustering_inverse.csv', index=False)"
      ],
      "metadata": {
        "id": "BEASz_Q__jms"
      },
      "execution_count": null,
      "outputs": []
    },
    {
      "cell_type": "markdown",
      "source": [
        "End of Code."
      ],
      "metadata": {
        "id": "sWOK6TDTL0eH"
      }
    }
  ]
}