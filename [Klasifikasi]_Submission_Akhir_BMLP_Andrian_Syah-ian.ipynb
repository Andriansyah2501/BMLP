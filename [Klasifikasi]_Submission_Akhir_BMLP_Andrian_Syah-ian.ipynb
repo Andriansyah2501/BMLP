{
  "nbformat": 4,
  "nbformat_minor": 0,
  "metadata": {
    "colab": {
      "provenance": []
    },
    "kernelspec": {
      "name": "python3",
      "display_name": "Python 3"
    },
    "language_info": {
      "name": "python"
    }
  },
  "cells": [
    {
      "cell_type": "markdown",
      "source": [
        "# **1. Import Library**"
      ],
      "metadata": {
        "id": "fKADPWcFKlj3"
      }
    },
    {
      "cell_type": "markdown",
      "source": [
        "Pada tahap ini, Anda perlu mengimpor beberapa pustaka (library) Python yang dibutuhkan untuk analisis data dan pembangunan model machine learning."
      ],
      "metadata": {
        "id": "LgA3ERnVn84N"
      }
    },
    {
      "cell_type": "code",
      "source": [
        "import pandas as pd\n",
        "import numpy as np\n",
        "from sklearn.model_selection import train_test_split\n",
        "from sklearn.preprocessing import StandardScaler, LabelEncoder\n",
        "from sklearn.linear_model import LogisticRegression\n",
        "from sklearn.ensemble import RandomForestClassifier\n",
        "from sklearn.metrics import accuracy_score, f1_score, confusion_matrix\n",
        "from sklearn.model_selection import GridSearchCV\n",
        "import seaborn as sns\n",
        "import matplotlib.pyplot as plt"
      ],
      "metadata": {
        "id": "BlmvjLY9M4Yj"
      },
      "execution_count": 12,
      "outputs": []
    },
    {
      "cell_type": "markdown",
      "source": [
        "# **2. Memuat Dataset dari Hasil Clustering**"
      ],
      "metadata": {
        "id": "f3YIEnAFKrKL"
      }
    },
    {
      "cell_type": "markdown",
      "source": [
        "Memuat dataset hasil clustering dari file CSV ke dalam variabel DataFrame."
      ],
      "metadata": {
        "id": "Ey3ItwTen_7E"
      }
    },
    {
      "cell_type": "code",
      "source": [
        "#Type your code here\n",
        "# Memuat dataset dari hasil clustering\n",
        "df = pd.read_csv('bank_transactions_data_2_final.csv')\n",
        "\n",
        "# Cek 5 baris pertama buat pastiin data ke-load\n",
        "print(\"5 Baris Pertama Dataset:\")\n",
        "print(df.head())\n",
        "\n",
        "# Cek info dataset (kolom, tipe data, dll.)\n",
        "print(\"\\nInfo Dataset:\")\n",
        "print(df.info())"
      ],
      "metadata": {
        "id": "GHCGNTyrM5fS",
        "colab": {
          "base_uri": "https://localhost:8080/"
        },
        "outputId": "a87a9b83-18a7-45c5-8604-d4e38dbe70f7"
      },
      "execution_count": 6,
      "outputs": [
        {
          "output_type": "stream",
          "name": "stdout",
          "text": [
            "5 Baris Pertama Dataset:\n",
            "  TransactionID AccountID  TransactionAmount      TransactionDate  \\\n",
            "0      TX000001   AC00128        4410.297491  2023-04-11 16:29:14   \n",
            "1      TX000002   AC00455      110117.582785  2023-06-27 16:44:19   \n",
            "2      TX000003   AC00019       37160.145372  2023-07-10 18:16:08   \n",
            "3      TX000004   AC00070       54150.953261  2023-05-05 16:32:11   \n",
            "4      TX000005   AC00411        4223.489090  2023-10-16 17:51:24   \n",
            "\n",
            "  TransactionType   Location DeviceID      IP Address MerchantID Channel  \\\n",
            "0           Debit  San Diego  D000380  162.198.218.92       M015     ATM   \n",
            "1           Debit    Houston  D000051     13.149.61.4       M052     ATM   \n",
            "2           Debit       Mesa  D000235  215.97.143.157       M009  Online   \n",
            "3           Debit    Raleigh  D000187  200.13.225.150       M002  Online   \n",
            "4          Credit    Atlanta  D000308    65.164.3.100       M091  Online   \n",
            "\n",
            "   CustomerAge CustomerOccupation  TransactionDuration  LoginAttempts  \\\n",
            "0  1289.879913             Doctor          5785.579512       1.727144   \n",
            "1  1254.302601             Doctor          9982.569290       1.727144   \n",
            "2   382.658437            Student          4036.833771       1.727144   \n",
            "3   507.179032            Student          1868.389053       1.727144   \n",
            "4   507.179032            Student         13969.709579       1.727144   \n",
            "\n",
            "   AccountBalance PreviousTransactionDate  Cluster  \n",
            "0    1.994358e+07     2024-11-04 08:08:08        2  \n",
            "1    5.366715e+07     2024-11-04 08:09:35        0  \n",
            "2    4.382466e+06     2024-11-04 08:07:04        1  \n",
            "3    3.342587e+07     2024-11-04 08:09:06        2  \n",
            "4    2.898101e+07     2024-11-04 08:06:39        2  \n",
            "\n",
            "Info Dataset:\n",
            "<class 'pandas.core.frame.DataFrame'>\n",
            "RangeIndex: 2512 entries, 0 to 2511\n",
            "Data columns (total 17 columns):\n",
            " #   Column                   Non-Null Count  Dtype  \n",
            "---  ------                   --------------  -----  \n",
            " 0   TransactionID            2512 non-null   object \n",
            " 1   AccountID                2512 non-null   object \n",
            " 2   TransactionAmount        2512 non-null   float64\n",
            " 3   TransactionDate          2512 non-null   object \n",
            " 4   TransactionType          2512 non-null   object \n",
            " 5   Location                 2512 non-null   object \n",
            " 6   DeviceID                 2512 non-null   object \n",
            " 7   IP Address               2512 non-null   object \n",
            " 8   MerchantID               2512 non-null   object \n",
            " 9   Channel                  2512 non-null   object \n",
            " 10  CustomerAge              2512 non-null   float64\n",
            " 11  CustomerOccupation       2512 non-null   object \n",
            " 12  TransactionDuration      2512 non-null   float64\n",
            " 13  LoginAttempts            2512 non-null   float64\n",
            " 14  AccountBalance           2512 non-null   float64\n",
            " 15  PreviousTransactionDate  2512 non-null   object \n",
            " 16  Cluster                  2512 non-null   int64  \n",
            "dtypes: float64(5), int64(1), object(11)\n",
            "memory usage: 333.8+ KB\n",
            "None\n"
          ]
        }
      ]
    },
    {
      "cell_type": "markdown",
      "source": [
        "# **3. Data Splitting**"
      ],
      "metadata": {
        "id": "KkPem5eWL2UP"
      }
    },
    {
      "cell_type": "markdown",
      "source": [
        "Tahap Data Splitting bertujuan untuk memisahkan dataset menjadi dua bagian: data latih (training set) dan data uji (test set)."
      ],
      "metadata": {
        "id": "YYj1rl_JNI9Y"
      }
    },
    {
      "cell_type": "code",
      "source": [
        "# Pilih fitur dan target\n",
        "features = ['TransactionAmount', 'TransactionDuration', 'AccountBalance', 'TransactionType', 'Channel', 'CustomerOccupation']\n",
        "X = df[features].copy()  # Tambahkan .copy() untuk membuat salinan eksplisit\n",
        "y = df['Cluster']\n",
        "\n",
        "# Encoding kolom kategorikal\n",
        "le = LabelEncoder()\n",
        "X.loc[:, 'TransactionType'] = le.fit_transform(X['TransactionType'])\n",
        "X.loc[:, 'Channel'] = le.fit_transform(X['Channel'])\n",
        "X.loc[:, 'CustomerOccupation'] = le.fit_transform(X['CustomerOccupation'])\n",
        "\n",
        "# Normalisasi fitur numerik\n",
        "scaler = StandardScaler()\n",
        "X.loc[:, ['TransactionAmount', 'TransactionDuration', 'AccountBalance']] = scaler.fit_transform(\n",
        "    X[['TransactionAmount', 'TransactionDuration', 'AccountBalance']]\n",
        ")\n",
        "\n",
        "# Split data menjadi training dan test set (80:20)\n",
        "X_train, X_test, y_train, y_test = train_test_split(X, y, test_size=0.2, random_state=42)\n",
        "\n",
        "print(\"Ukuran Training Set:\", X_train.shape)\n",
        "print(\"Ukuran Test Set:\", X_test.shape)"
      ],
      "metadata": {
        "id": "OubAW-7ONKVj",
        "colab": {
          "base_uri": "https://localhost:8080/"
        },
        "outputId": "41985c41-e062-423c-eb87-5d83c8cab5bf"
      },
      "execution_count": 14,
      "outputs": [
        {
          "output_type": "stream",
          "name": "stdout",
          "text": [
            "Ukuran Training Set: (2009, 6)\n",
            "Ukuran Test Set: (503, 6)\n"
          ]
        }
      ]
    },
    {
      "cell_type": "markdown",
      "source": [
        "# **4. Membangun Model Klasifikasi**\n"
      ],
      "metadata": {
        "id": "IVPbB03CMhTT"
      }
    },
    {
      "cell_type": "markdown",
      "source": [
        "## **a. Membangun Model Klasifikasi**"
      ],
      "metadata": {
        "id": "Ned1pL9zMmBK"
      }
    },
    {
      "cell_type": "markdown",
      "source": [
        "Setelah memilih algoritma klasifikasi yang sesuai, langkah selanjutnya adalah melatih model menggunakan data latih.\n",
        "\n",
        "Berikut adalah rekomendasi tahapannya.\n",
        "1. Pilih algoritma klasifikasi yang sesuai, seperti Logistic Regression, Decision Tree, Random Forest, atau K-Nearest Neighbors (KNN).\n",
        "2. Latih model menggunakan data latih."
      ],
      "metadata": {
        "id": "WAWzPOE4Nkti"
      }
    },
    {
      "cell_type": "code",
      "source": [
        "# Model 1: Logistic Regression\n",
        "lr_model = LogisticRegression(max_iter=1000, random_state=42)\n",
        "lr_model.fit(X_train, y_train)\n",
        "\n",
        "# Model 2: Random Forest\n",
        "rf_model = RandomForestClassifier(random_state=42)\n",
        "rf_model.fit(X_train, y_train)\n",
        "\n",
        "print(\"Model Logistic Regression dan Random Forest telah dilatih.\")"
      ],
      "metadata": {
        "id": "4JYxBe87NLDk",
        "colab": {
          "base_uri": "https://localhost:8080/"
        },
        "outputId": "0841e794-1274-4b90-db37-5840cd798ae1"
      },
      "execution_count": 15,
      "outputs": [
        {
          "output_type": "stream",
          "name": "stdout",
          "text": [
            "Model Logistic Regression dan Random Forest telah dilatih.\n"
          ]
        }
      ]
    },
    {
      "cell_type": "markdown",
      "source": [
        "Tulis narasi atau penjelasan algoritma yang Anda gunakan."
      ],
      "metadata": {
        "id": "seYoHNY3XU1y"
      }
    },
    {
      "cell_type": "markdown",
      "source": [
        "## **b. Evaluasi Model Klasifikasi**"
      ],
      "metadata": {
        "id": "ergzChZFEL-O"
      }
    },
    {
      "cell_type": "markdown",
      "source": [
        "Berikut adalah **rekomendasi** tahapannya.\n",
        "1. Lakukan prediksi menggunakan data uji.\n",
        "2. Hitung metrik evaluasi seperti Accuracy dan F1-Score (Opsional: Precision dan Recall).\n",
        "3. Buat confusion matrix untuk melihat detail prediksi benar dan salah."
      ],
      "metadata": {
        "id": "zOm68u-7NpLT"
      }
    },
    {
      "cell_type": "code",
      "source": [
        "#Type your code here\n",
        "# Prediksi dengan Logistic Regression\n",
        "lr_pred = lr_model.predict(X_test)\n",
        "\n",
        "# Prediksi dengan Random Forest\n",
        "rf_pred = rf_model.predict(X_test)\n",
        "\n",
        "# Evaluasi Logistic Regression\n",
        "lr_accuracy = accuracy_score(y_test, lr_pred)\n",
        "lr_f1 = f1_score(y_test, lr_pred, average='weighted')\n",
        "lr_cm = confusion_matrix(y_test, lr_pred)\n",
        "\n",
        "# Evaluasi Random Forest\n",
        "rf_accuracy = accuracy_score(y_test, rf_pred)\n",
        "rf_f1 = f1_score(y_test, rf_pred, average='weighted')\n",
        "rf_cm = confusion_matrix(y_test, rf_pred)\n",
        "\n",
        "# Tampilkan hasil\n",
        "print(\"Evaluasi Logistic Regression:\")\n",
        "print(f\"Accuracy: {lr_accuracy:.4f}\")\n",
        "print(f\"F1-Score: {lr_f1:.4f}\")\n",
        "print(\"Confusion Matrix:\")\n",
        "print(lr_cm)\n",
        "\n",
        "print(\"\\nEvaluasi Random Forest:\")\n",
        "print(f\"Accuracy: {rf_accuracy:.4f}\")\n",
        "print(f\"F1-Score: {rf_f1:.4f}\")\n",
        "print(\"Confusion Matrix:\")\n",
        "print(rf_cm)\n",
        "\n",
        "# Visualisasi Confusion Matrix untuk Random Forest\n",
        "plt.figure(figsize=(8, 6))\n",
        "sns.heatmap(rf_cm, annot=True, fmt='d', cmap='Blues')\n",
        "plt.title('Confusion Matrix - Random Forest')\n",
        "plt.xlabel('Predicted')\n",
        "plt.ylabel('Actual')\n",
        "plt.show()"
      ],
      "metadata": {
        "id": "tMq4QAssNLip",
        "colab": {
          "base_uri": "https://localhost:8080/",
          "height": 841
        },
        "outputId": "7195d11b-be69-43e2-fd70-2febce60dc65"
      },
      "execution_count": 16,
      "outputs": [
        {
          "output_type": "stream",
          "name": "stdout",
          "text": [
            "Evaluasi Logistic Regression:\n",
            "Accuracy: 0.9960\n",
            "F1-Score: 0.9960\n",
            "Confusion Matrix:\n",
            "[[ 80   0   1]\n",
            " [  0 221   1]\n",
            " [  0   0 200]]\n",
            "\n",
            "Evaluasi Random Forest:\n",
            "Accuracy: 1.0000\n",
            "F1-Score: 1.0000\n",
            "Confusion Matrix:\n",
            "[[ 81   0   0]\n",
            " [  0 222   0]\n",
            " [  0   0 200]]\n"
          ]
        },
        {
          "output_type": "display_data",
          "data": {
            "text/plain": [
              "<Figure size 800x600 with 2 Axes>"
            ],
            "image/png": "[encoded data removed]"
          },
          "metadata": {}
        }
      ]
    },
    {
      "cell_type": "markdown",
      "source": [
        "Tulis hasil evaluasi algoritma yang digunakan, jika Anda menggunakan 2 algoritma, maka bandingkan hasilnya."
      ],
      "metadata": {
        "id": "H4_9OwrsXZlz"
      }
    },
    {
      "cell_type": "markdown",
      "source": [
        "## **c. Tuning Model Klasifikasi (Optional)**"
      ],
      "metadata": {
        "id": "ph9yIYDXEPuB"
      }
    },
    {
      "cell_type": "markdown",
      "source": [
        "Gunakan GridSearchCV, RandomizedSearchCV, atau metode lainnya untuk mencari kombinasi hyperparameter terbaik"
      ],
      "metadata": {
        "id": "-Bikx3LINv5e"
      }
    },
    {
      "cell_type": "code",
      "source": [
        "#Type your code here\n",
        "# Parameter grid untuk Random Forest\n",
        "param_grid = {\n",
        "    'n_estimators': [50, 100, 200],\n",
        "    'max_depth': [10, 20, None],\n",
        "    'min_samples_split': [2, 5, 10]\n",
        "}\n",
        "\n",
        "# GridSearchCV untuk Random Forest\n",
        "grid_search = GridSearchCV(RandomForestClassifier(random_state=42), param_grid, cv=5, scoring='accuracy', n_jobs=-1)\n",
        "grid_search.fit(X_train, y_train)\n",
        "\n",
        "# Model terbaik\n",
        "best_rf_model = grid_search.best_estimator_\n",
        "print(\"Hyperparameter Terbaik:\", grid_search.best_params_)"
      ],
      "metadata": {
        "id": "winbFzb8NL95",
        "colab": {
          "base_uri": "https://localhost:8080/"
        },
        "outputId": "71ab11c5-27d4-4157-8fd8-d33670663b74"
      },
      "execution_count": 17,
      "outputs": [
        {
          "output_type": "stream",
          "name": "stdout",
          "text": [
            "Hyperparameter Terbaik: {'max_depth': 10, 'min_samples_split': 2, 'n_estimators': 50}\n"
          ]
        }
      ]
    },
    {
      "cell_type": "markdown",
      "source": [
        "## **d. Evaluasi Model Klasifikasi setelah Tuning (Optional)**"
      ],
      "metadata": {
        "id": "hE7pqlEPEYzI"
      }
    },
    {
      "cell_type": "markdown",
      "source": [
        "Berikut adalah rekomendasi tahapannya.\n",
        "1. Gunakan model dengan hyperparameter terbaik.\n",
        "2. Hitung ulang metrik evaluasi untuk melihat apakah ada peningkatan performa."
      ],
      "metadata": {
        "id": "feaPESoeN0zz"
      }
    },
    {
      "cell_type": "code",
      "source": [
        "#Type your code here\n",
        "# Prediksi dengan model terbaik\n",
        "best_rf_pred = best_rf_model.predict(X_test)\n",
        "\n",
        "# Evaluasi model setelah tuning\n",
        "best_rf_accuracy = accuracy_score(y_test, best_rf_pred)\n",
        "best_rf_f1 = f1_score(y_test, best_rf_pred, average='weighted')\n",
        "best_rf_cm = confusion_matrix(y_test, best_rf_pred)\n",
        "\n",
        "print(\"Evaluasi Random Forest setelah Tuning:\")\n",
        "print(f\"Accuracy: {best_rf_accuracy:.4f}\")\n",
        "print(f\"F1-Score: {best_rf_f1:.4f}\")\n",
        "print(\"Confusion Matrix:\")\n",
        "print(best_rf_cm)\n",
        "\n",
        "# Visualisasi Confusion Matrix setelah tuning\n",
        "plt.figure(figsize=(8, 6))\n",
        "sns.heatmap(best_rf_cm, annot=True, fmt='d', cmap='Greens')\n",
        "plt.title('Confusion Matrix - Random Forest (Tuned)')\n",
        "plt.xlabel('Predicted')\n",
        "plt.ylabel('Actual')\n",
        "plt.show()"
      ],
      "metadata": {
        "id": "HTXZRvEeNMb1",
        "colab": {
          "base_uri": "https://localhost:8080/",
          "height": 693
        },
        "outputId": "57e15c50-bf0b-488c-d5c1-9ba3106c2405"
      },
      "execution_count": 18,
      "outputs": [
        {
          "output_type": "stream",
          "name": "stdout",
          "text": [
            "Evaluasi Random Forest setelah Tuning:\n",
            "Accuracy: 1.0000\n",
            "F1-Score: 1.0000\n",
            "Confusion Matrix:\n",
            "[[ 81   0   0]\n",
            " [  0 222   0]\n",
            " [  0   0 200]]\n"
          ]
        },
        {
          "output_type": "display_data",
          "data": {
            "text/plain": [
              "<Figure size 800x600 with 2 Axes>"
            ],
            "image/png": "[encoded data removed]"
          },
          "metadata": {}
        }
      ]
    },
    {
      "cell_type": "markdown",
      "source": [
        "## **e. Analisis Hasil Evaluasi Model Klasifikasi**"
      ],
      "metadata": {
        "id": "ZRsOdm4uEgAW"
      }
    },
    {
      "cell_type": "markdown",
      "source": [
        "Berikut adalah **rekomendasi** tahapannya.\n",
        "1. Bandingkan hasil evaluasi sebelum dan setelah tuning (jika dilakukan).\n",
        "2. Identifikasi kelemahan model, seperti:\n",
        "  - Precision atau Recall rendah untuk kelas tertentu.\n",
        "  - Apakah model mengalami overfitting atau underfitting?\n",
        "3. Berikan rekomendasi tindakan lanjutan, seperti mengumpulkan data tambahan atau mencoba algoritma lain jika hasil belum memuaskan."
      ],
      "metadata": {
        "id": "Hm3BhSi6N4_l"
      }
    },
    {
      "cell_type": "code",
      "source": [
        "# Bandingkan hasil sebelum dan setelah tuning\n",
        "print(\"Perbandingan Performa Random Forest:\")\n",
        "print(f\"Accuracy sebelum tuning: {rf_accuracy:.4f}, setelah tuning: {best_rf_accuracy:.4f}\")\n",
        "print(f\"F1-Score sebelum tuning: {rf_f1:.4f}, setelah tuning: {best_rf_f1:.4f}\")\n",
        "\n",
        "# Analisis kelemahan\n",
        "if best_rf_accuracy < 0.8:\n",
        "    print(\"Model mungkin underfitting. Rekomendasi: Tambah fitur atau coba algoritma lain seperti XGBoost.\")\n",
        "elif best_rf_f1 < 0.8:\n",
        "    print(\"Model mungkin memiliki precision/recall rendah untuk kelas tertentu. Periksa distribusi kelas.\")\n",
        "else:\n",
        "    print(\"Model tampak baik, tetapi bisa ditingkatkan dengan lebih banyak data atau fitur tambahan.\")"
      ],
      "metadata": {
        "colab": {
          "base_uri": "https://localhost:8080/"
        },
        "id": "pGp2fpn2X1zA",
        "outputId": "042d566d-4824-4f08-94c1-3e485d1e9d99"
      },
      "execution_count": 19,
      "outputs": [
        {
          "output_type": "stream",
          "name": "stdout",
          "text": [
            "Perbandingan Performa Random Forest:\n",
            "Accuracy sebelum tuning: 1.0000, setelah tuning: 1.0000\n",
            "F1-Score sebelum tuning: 1.0000, setelah tuning: 1.0000\n",
            "Model tampak baik, tetapi bisa ditingkatkan dengan lebih banyak data atau fitur tambahan.\n"
          ]
        }
      ]
    }
  ]
}