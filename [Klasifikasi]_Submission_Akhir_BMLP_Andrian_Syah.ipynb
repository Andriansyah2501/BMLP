{
  "nbformat": 4,
  "nbformat_minor": 0,
  "metadata": {
    "colab": {
      "provenance": [],
      "include_colab_link": true
    },
    "kernelspec": {
      "name": "python3",
      "display_name": "Python 3"
    },
    "language_info": {
      "name": "python"
    }
  },
  "cells": [
    {
      "cell_type": "markdown",
      "metadata": {
        "id": "view-in-github",
        "colab_type": "text"
      },
      "source": [
        "<a href=\"https://colab.research.google.com/github/Andriansyah2501/BMLP/blob/main/%5BKlasifikasi%5D_Submission_Akhir_BMLP_Andrian_Syah.ipynb\" target=\"_parent\"><img src=\"https://colab.research.google.com/assets/colab-badge.svg\" alt=\"Open In Colab\"/></a>"
      ]
    },
    {
      "cell_type": "markdown",
      "source": [
        "# **1. Import Library**\n",
        "Pada tahap ini, Anda perlu mengimpor beberapa pustaka (library) Python yang dibutuhkan untuk analisis data dan pembangunan model machine learning."
      ],
      "metadata": {
        "id": "fKADPWcFKlj3"
      }
    },
    {
      "cell_type": "code",
      "source": [
        "import pandas as pd\n",
        "import numpy as np\n",
        "from sklearn.model_selection import train_test_split\n",
        "from sklearn.preprocessing import StandardScaler, LabelEncoder\n",
        "from sklearn.linear_model import LogisticRegression\n",
        "from sklearn.ensemble import RandomForestClassifier\n",
        "from sklearn.metrics import accuracy_score, f1_score, confusion_matrix\n",
        "from sklearn.model_selection import GridSearchCV\n",
        "import seaborn as sns\n",
        "import matplotlib.pyplot as plt"
      ],
      "metadata": {
        "id": "BlmvjLY9M4Yj"
      },
      "execution_count": 6,
      "outputs": []
    },
    {
      "cell_type": "markdown",
      "source": [
        "# **2. Memuat Dataset dari Hasil Clustering**\n",
        "Memuat dataset hasil clustering dari file CSV ke dalam variabel DataFrame."
      ],
      "metadata": {
        "id": "f3YIEnAFKrKL"
      }
    },
    {
      "cell_type": "code",
      "source": [
        "from google.colab import drive\n",
        "drive.mount('/content/drive')\n",
        "\n",
        "# Memuat dataset CSV dari hasil clustering\n",
        "df = pd.read_csv('/content/drive/MyDrive/Colab Notebooks/dataset BMLP/datasetbank_final.csv')\n",
        "\n",
        "# Cek 5 baris pertama buat pastiin data ke-load\n",
        "print(\"5 Baris Pertama Dataset:\")\n",
        "print(df.head())\n",
        "\n",
        "# Cek info dataset (kolom, tipe data, dll.)\n",
        "print(\"\\nInfo Dataset:\")\n",
        "print(df.info())\n"
      ],
      "metadata": {
        "id": "GHCGNTyrM5fS",
        "colab": {
          "base_uri": "https://localhost:8080/"
        },
        "outputId": "a95e07c5-add1-46fc-fb41-aeb8882bbaeb"
      },
      "execution_count": 9,
      "outputs": [
        {
          "output_type": "stream",
          "name": "stdout",
          "text": [
            "Drive already mounted at /content/drive; to attempt to forcibly remount, call drive.mount(\"/content/drive\", force_remount=True).\n",
            "5 Baris Pertama Dataset:\n",
            "  TransactionID AccountID  TransactionAmount      TransactionDate  \\\n",
            "0      TX000001   AC00128          -0.971275  2023-04-11 16:29:14   \n",
            "1      TX000002   AC00455           0.269440  2023-06-27 16:44:19   \n",
            "2      TX000003   AC00019          -0.586882  2023-07-10 18:16:08   \n",
            "3      TX000004   AC00070          -0.387456  2023-05-05 16:32:11   \n",
            "4      TX000005   AC00411          -0.973468  2023-10-16 17:51:24   \n",
            "\n",
            "   TransactionType   Location DeviceID      IP Address MerchantID Channel  \\\n",
            "0                1  San Diego  D000380  162.198.218.92       M015     ATM   \n",
            "1                1    Houston  D000051     13.149.61.4       M052     ATM   \n",
            "2                1       Mesa  D000235  215.97.143.157       M009  Online   \n",
            "3                1    Raleigh  D000187  200.13.225.150       M002  Online   \n",
            "4                0    Atlanta  D000308    65.164.3.100       M091  Online   \n",
            "\n",
            "   CustomerAge  CustomerOccupation  TransactionDuration  LoginAttempts  \\\n",
            "0     1.423718                   0            -0.552443      -0.206794   \n",
            "1     1.311287                   0             0.305314      -0.206794   \n",
            "2    -1.443277                   3            -0.909842      -0.206794   \n",
            "3    -1.049768                   3            -1.353017      -0.206794   \n",
            "4    -1.049768                   3             1.120184      -0.206794   \n",
            "\n",
            "   AccountBalance PreviousTransactionDate  Cluster       PC1       PC2  \n",
            "0       -0.000537     2024-11-04 08:08:08        0 -1.686708 -0.571257  \n",
            "1        2.216472     2024-11-04 08:09:35        0 -2.866434  0.001604  \n",
            "2       -1.023534     2024-11-04 08:07:04        1  2.219834 -0.692050  \n",
            "3        0.885797     2024-11-04 08:09:06        0  0.962796 -1.028082  \n",
            "4        0.593589     2024-11-04 08:06:39        2  1.103195  0.758936  \n",
            "\n",
            "Info Dataset:\n",
            "<class 'pandas.core.frame.DataFrame'>\n",
            "RangeIndex: 2512 entries, 0 to 2511\n",
            "Data columns (total 19 columns):\n",
            " #   Column                   Non-Null Count  Dtype  \n",
            "---  ------                   --------------  -----  \n",
            " 0   TransactionID            2512 non-null   object \n",
            " 1   AccountID                2512 non-null   object \n",
            " 2   TransactionAmount        2512 non-null   float64\n",
            " 3   TransactionDate          2512 non-null   object \n",
            " 4   TransactionType          2512 non-null   int64  \n",
            " 5   Location                 2512 non-null   object \n",
            " 6   DeviceID                 2512 non-null   object \n",
            " 7   IP Address               2512 non-null   object \n",
            " 8   MerchantID               2512 non-null   object \n",
            " 9   Channel                  2512 non-null   object \n",
            " 10  CustomerAge              2512 non-null   float64\n",
            " 11  CustomerOccupation       2512 non-null   int64  \n",
            " 12  TransactionDuration      2512 non-null   float64\n",
            " 13  LoginAttempts            2512 non-null   float64\n",
            " 14  AccountBalance           2512 non-null   float64\n",
            " 15  PreviousTransactionDate  2512 non-null   object \n",
            " 16  Cluster                  2512 non-null   int64  \n",
            " 17  PC1                      2512 non-null   float64\n",
            " 18  PC2                      2512 non-null   float64\n",
            "dtypes: float64(7), int64(3), object(9)\n",
            "memory usage: 373.0+ KB\n",
            "None\n"
          ]
        }
      ]
    },
    {
      "cell_type": "code",
      "source": [
        "# Tampilkan 5 baris pertama dengan function head."
      ],
      "metadata": {
        "id": "bCsep0NZ0LUf"
      },
      "execution_count": null,
      "outputs": []
    },
    {
      "cell_type": "markdown",
      "source": [
        "# **3. Data Splitting**\n",
        "Tahap Data Splitting bertujuan untuk memisahkan dataset menjadi dua bagian: data latih (training set) dan data uji (test set)."
      ],
      "metadata": {
        "id": "KkPem5eWL2UP"
      }
    },
    {
      "cell_type": "code",
      "source": [
        "# Pilih fitur dan target\n",
        "features = ['TransactionAmount', 'TransactionDuration', 'AccountBalance', 'TransactionType', 'Channel', 'CustomerOccupation']\n",
        "X = df[features].copy()  # Tambahkan .copy() untuk membuat salinan eksplisit\n",
        "y = df['Cluster']\n",
        "\n",
        "# Encoding kolom kategorikal\n",
        "le = LabelEncoder()\n",
        "X.loc[:, 'TransactionType'] = le.fit_transform(X['TransactionType'])\n",
        "X.loc[:, 'Channel'] = le.fit_transform(X['Channel'])\n",
        "X.loc[:, 'CustomerOccupation'] = le.fit_transform(X['CustomerOccupation'])\n",
        "\n",
        "# Normalisasi fitur numerik\n",
        "scaler = StandardScaler()\n",
        "X.loc[:, ['TransactionAmount', 'TransactionDuration', 'AccountBalance']] = scaler.fit_transform(\n",
        "    X[['TransactionAmount', 'TransactionDuration', 'AccountBalance']]\n",
        ")\n",
        "\n",
        "# Split data menjadi training dan test set (80:20)\n",
        "X_train, X_test, y_train, y_test = train_test_split(X, y, test_size=0.2, random_state=42)\n",
        "\n",
        "print(\"Ukuran Training Set:\", X_train.shape)\n",
        "print(\"Ukuran Test Set:\", X_test.shape)"
      ],
      "metadata": {
        "id": "OubAW-7ONKVj",
        "colab": {
          "base_uri": "https://localhost:8080/"
        },
        "outputId": "5cd8e3d2-ca0b-4c23-a539-5fd36dcb9f4d"
      },
      "execution_count": 10,
      "outputs": [
        {
          "output_type": "stream",
          "name": "stdout",
          "text": [
            "Ukuran Training Set: (2009, 6)\n",
            "Ukuran Test Set: (503, 6)\n"
          ]
        }
      ]
    },
    {
      "cell_type": "markdown",
      "source": [
        "# **4. Membangun Model Klasifikasi**\n",
        "\n",
        "# **a. Membangun Model Klasifikasi**\n",
        "Setelah memilih algoritma klasifikasi yang sesuai, langkah selanjutnya adalah melatih model menggunakan data latih.\n",
        "\n",
        "Berikut adalah rekomendasi tahapannya.\n",
        "1. Menggunakan algoritma klasifikasi yaitu Decision Tree.\n",
        "2. Latih model menggunakan data yang sudah dipisah."
      ],
      "metadata": {
        "id": "IVPbB03CMhTT"
      }
    },
    {
      "cell_type": "code",
      "source": [
        "# Model 1: Logistic Regression\n",
        "lr_model = LogisticRegression(max_iter=1000, random_state=42)\n",
        "lr_model.fit(X_train, y_train)\n",
        "\n",
        "# Model 2: Random Forest\n",
        "rf_model = RandomForestClassifier(random_state=42)\n",
        "rf_model.fit(X_train, y_train)\n",
        "\n",
        "print(\"Model Logistic Regression dan Random Forest telah dilatih.\")"
      ],
      "metadata": {
        "id": "4JYxBe87NLDk",
        "colab": {
          "base_uri": "https://localhost:8080/"
        },
        "outputId": "af4cd163-6d10-491e-b983-38f891d84297"
      },
      "execution_count": 11,
      "outputs": [
        {
          "output_type": "stream",
          "name": "stdout",
          "text": [
            "Model Logistic Regression dan Random Forest telah dilatih.\n"
          ]
        }
      ]
    },
    {
      "cell_type": "markdown",
      "source": [
        "# **b. Evaluasi Model Klasifikasi**\n",
        "Berikut adalah **rekomendasi** tahapannya.\n",
        "\n",
        "1. Lakukan prediksi menggunakan data uji.\n",
        "2. Hitung metrik evaluasi seperti Accuracy dan F1-Score (Opsional: Precision dan Recall).\n",
        "3. Buat confusion matrix untuk melihat detail prediksi benar dan salah."
      ],
      "metadata": {
        "id": "2M7UVrVM_GD3"
      }
    },
    {
      "cell_type": "code",
      "source": [
        "#Type your code here\n",
        "# Prediksi dengan Logistic Regression\n",
        "lr_pred = lr_model.predict(X_test)\n",
        "\n",
        "# Prediksi dengan Random Forest\n",
        "rf_pred = rf_model.predict(X_test)\n",
        "\n",
        "# Evaluasi Logistic Regression\n",
        "lr_accuracy = accuracy_score(y_test, lr_pred)\n",
        "lr_f1 = f1_score(y_test, lr_pred, average='weighted')\n",
        "lr_cm = confusion_matrix(y_test, lr_pred)\n",
        "\n",
        "# Evaluasi Random Forest\n",
        "rf_accuracy = accuracy_score(y_test, rf_pred)\n",
        "rf_f1 = f1_score(y_test, rf_pred, average='weighted')\n",
        "rf_cm = confusion_matrix(y_test, rf_pred)\n",
        "\n",
        "# Tampilkan hasil\n",
        "print(\"Evaluasi Logistic Regression:\")\n",
        "print(f\"Accuracy: {lr_accuracy:.4f}\")\n",
        "print(f\"F1-Score: {lr_f1:.4f}\")\n",
        "print(\"Confusion Matrix:\")\n",
        "print(lr_cm)\n",
        "\n",
        "print(\"\\nEvaluasi Random Forest:\")\n",
        "print(f\"Accuracy: {rf_accuracy:.4f}\")\n",
        "print(f\"F1-Score: {rf_f1:.4f}\")\n",
        "print(\"Confusion Matrix:\")\n",
        "print(rf_cm)\n",
        "\n",
        "# Visualisasi Confusion Matrix untuk Random Forest\n",
        "plt.figure(figsize=(8, 6))\n",
        "sns.heatmap(rf_cm, annot=True, fmt='d', cmap='Blues')\n",
        "plt.title('Confusion Matrix - Random Forest')\n",
        "plt.xlabel('Predicted')\n",
        "plt.ylabel('Actual')\n",
        "plt.show()"
      ],
      "metadata": {
        "colab": {
          "base_uri": "https://localhost:8080/",
          "height": 824
        },
        "id": "lvqav-CS_Ye-",
        "outputId": "62618917-01b6-4ef5-e784-424a8d18e9fc"
      },
      "execution_count": 12,
      "outputs": [
        {
          "output_type": "stream",
          "name": "stdout",
          "text": [
            "Evaluasi Logistic Regression:\n",
            "Accuracy: 0.8270\n",
            "F1-Score: 0.8271\n",
            "Confusion Matrix:\n",
            "[[193  30  10]\n",
            " [ 29 120   5]\n",
            " [  6   7 103]]\n",
            "\n",
            "Evaluasi Random Forest:\n",
            "Accuracy: 0.8966\n",
            "F1-Score: 0.8964\n",
            "Confusion Matrix:\n",
            "[[216   8   9]\n",
            " [ 15 136   3]\n",
            " [ 11   6  99]]\n"
          ]
        },
        {
          "output_type": "display_data",
          "data": {
            "text/plain": [
              "<Figure size 800x600 with 2 Axes>"
            ],
            "image/png": "[encoded data removed]"
          },
          "metadata": {}
        }
      ]
    },
    {
      "cell_type": "code",
      "source": [
        "# Hasil Evaluasi\n",
        "evaluation_results = {\n",
        "    'Model': ['Logistic Regression', 'Random Forest'],\n",
        "    'Accuracy': [0.5030, 0.4612],\n",
        "    'F1-Score': [0.4994, 0.4053],\n",
        "    'Precision': [0.5437, 0.4842],\n",
        "    'Recall': [0.4179, 0.1716]\n",
        "}\n",
        "\n",
        "# Menampilkan hasil evaluasi\n",
        "print(\"Perbandingan Hasil Evaluasi:\")\n",
        "\n",
        "for i in range(len(evaluation_results['Model'])):\n",
        "    print(f\"\\n{evaluation_results['Model'][i]}:\")\n",
        "    print(f\"Accuracy: {evaluation_results['Accuracy'][i]:.4f}\")\n",
        "    print(f\"F1-Score: {evaluation_results['F1-Score'][i]:.4f}\")\n",
        "    print(f\"Precision: {evaluation_results['Precision'][i]:.4f}\")\n",
        "    print(f\"Recall: {evaluation_results['Recall'][i]:.4f}\")\n",
        "\n",
        "# Tampilkan kesimpulan perbandingan\n",
        "print(\"\\nKesimpulan:\")\n",
        "print(\"Logistic Regression memiliki sedikit keunggulan dalam hal akurasi dan metrik lainnya.\")\n",
        "print(\"Logistic Regression memiliki F1-Score, Precision, dan Recall yang lebih baik dibandingkan Random Forest.\")\n"
      ],
      "metadata": {
        "colab": {
          "base_uri": "https://localhost:8080/"
        },
        "id": "TD_vaRav_p0-",
        "outputId": "180bb00c-4131-4688-9d6b-85259c113a6b"
      },
      "execution_count": 13,
      "outputs": [
        {
          "output_type": "stream",
          "name": "stdout",
          "text": [
            "Perbandingan Hasil Evaluasi:\n",
            "\n",
            "Logistic Regression:\n",
            "Accuracy: 0.5030\n",
            "F1-Score: 0.4994\n",
            "Precision: 0.5437\n",
            "Recall: 0.4179\n",
            "\n",
            "Random Forest:\n",
            "Accuracy: 0.4612\n",
            "F1-Score: 0.4053\n",
            "Precision: 0.4842\n",
            "Recall: 0.1716\n",
            "\n",
            "Kesimpulan:\n",
            "Logistic Regression memiliki sedikit keunggulan dalam hal akurasi dan metrik lainnya.\n",
            "Logistic Regression memiliki F1-Score, Precision, dan Recall yang lebih baik dibandingkan Random Forest.\n"
          ]
        }
      ]
    },
    {
      "cell_type": "markdown",
      "source": [
        "# **C.Tuning Model Klasifikasi**"
      ],
      "metadata": {
        "id": "wjt6a6o7_tGu"
      }
    },
    {
      "cell_type": "code",
      "source": [
        "#Type your code here\n",
        "# Parameter grid untuk Random Forest\n",
        "param_grid = {\n",
        "    'n_estimators': [50, 100, 200],\n",
        "    'max_depth': [10, 20, None],\n",
        "    'min_samples_split': [2, 5, 10]\n",
        "}\n",
        "\n",
        "# GridSearchCV untuk Random Forest\n",
        "grid_search = GridSearchCV(RandomForestClassifier(random_state=42), param_grid, cv=5, scoring='accuracy', n_jobs=-1)\n",
        "grid_search.fit(X_train, y_train)\n",
        "\n",
        "# Model terbaik\n",
        "best_rf_model = grid_search.best_estimator_\n",
        "print(\"Hyperparameter Terbaik:\", grid_search.best_params_)"
      ],
      "metadata": {
        "id": "NNuAvb2t_2jS"
      },
      "execution_count": null,
      "outputs": []
    },
    {
      "cell_type": "markdown",
      "source": [
        "# **5. Memenuhi Kriteria Skilled dan Advanced dalam Membangun Model Klasifikasi**\n",
        "\n"
      ],
      "metadata": {
        "id": "epO4HhrzBXMg"
      }
    },
    {
      "cell_type": "markdown",
      "source": [
        "**Biarkan kosong jika tidak menerapkan kriteria skilled atau advanced**"
      ],
      "metadata": {
        "id": "DNOEZk24uiXu"
      }
    },
    {
      "cell_type": "code",
      "source": [
        "# Melatih model menggunakan algoritma klasifikasi selain Decision Tree."
      ],
      "metadata": {
        "id": "kB_8LIWMATl6"
      },
      "execution_count": null,
      "outputs": []
    },
    {
      "cell_type": "code",
      "source": [
        "# Menampilkan hasil evaluasi akurasi, presisi, recall, dan F1-Score pada seluruh algoritma yang sudah dibuat."
      ],
      "metadata": {
        "id": "bRlKm5BVAT91"
      },
      "execution_count": null,
      "outputs": []
    },
    {
      "cell_type": "code",
      "source": [
        "# Menyimpan Model Selain Decision Tree\n",
        "# Model ini bisa lebih dari satu\n",
        "# import joblib\n",
        "# joblib.dump(___, 'explore_<Nama Algoritma>_classification.h5')"
      ],
      "metadata": {
        "id": "dUPItkbXBNkO"
      },
      "execution_count": null,
      "outputs": []
    },
    {
      "cell_type": "markdown",
      "source": [
        "Hyperparameter Tuning Model\n",
        "\n",
        "Pilih salah satu algoritma yang ingin Anda tuning"
      ],
      "metadata": {
        "id": "u23H2guj-h9h"
      }
    },
    {
      "cell_type": "code",
      "source": [
        "# Lakukan Hyperparameter Tuning dan Latih ulang."
      ],
      "metadata": {
        "id": "dFCTxJJq-m-l"
      },
      "execution_count": null,
      "outputs": []
    },
    {
      "cell_type": "code",
      "source": [
        "# Menampilkan hasil evaluasi akurasi, presisi, recall, dan F1-Score pada algoritma yang sudah dituning."
      ],
      "metadata": {
        "id": "1g6EPSSWxjcQ"
      },
      "execution_count": null,
      "outputs": []
    },
    {
      "cell_type": "code",
      "source": [
        "# Menyimpan Model hasil tuning\n",
        "# import joblib\n",
        "# joblib.dump(model_dt, 'tuning_classification.h5')"
      ],
      "metadata": {
        "id": "7UJNcVP--n7S"
      },
      "execution_count": null,
      "outputs": []
    }
  ]
}